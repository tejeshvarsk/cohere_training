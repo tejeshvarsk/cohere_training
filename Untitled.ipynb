{
 "cells": [
  {
   "cell_type": "code",
   "execution_count": 14,
   "id": "6ce6f4b5-6671-497e-a202-f15ce7684efe",
   "metadata": {},
   "outputs": [
    {
     "name": "stdout",
     "output_type": "stream",
     "text": [
      "cohere.Chat {\n",
      "\tid: 1590143a-d837-4c8f-8b10-08ca0c8052d4\n",
      "\tresponse_id: 1590143a-d837-4c8f-8b10-08ca0c8052d4\n",
      "\tgeneration_id: 3a44b951-97de-4964-8ea0-aadcd731b03c\n",
      "\tmessage: Hello\n",
      "\ttext: Hi there! How can I help you today?\n",
      "\n",
      "If you would like, you can skip the helpful prompt and get straight to your query, and I'll do my best to respond in a helpful and thorough manner. \n",
      "\n",
      "I am happy to answer your questions, assist you in drafting or editing documents, or help you tackle a problem provided it is within my bounds. If you are unsure about whether I will be able to assist you, please ask me, and I will let you know either way. \n",
      "\n",
      "I look forward to speaking with you today!\n",
      "\tconversation_id: None\n",
      "\tprompt: None\n",
      "\tchat_history: None\n",
      "\tpreamble: None\n",
      "\tclient: <cohere.client.Client object at 0x118181ff0>\n",
      "\ttoken_count: {'prompt_tokens': 63, 'response_tokens': 114, 'total_tokens': 177, 'billed_tokens': 166}\n",
      "\tmeta: {'api_version': {'version': '1'}, 'billed_units': {'input_tokens': 52, 'output_tokens': 114}}\n",
      "\tis_search_required: None\n",
      "\tcitations: None\n",
      "\tdocuments: None\n",
      "\tsearch_results: None\n",
      "\tsearch_queries: None\n",
      "\tfinish_reason: COMPLETE\n",
      "}\n"
     ]
    }
   ],
   "source": [
    "import cohere\n",
    "co = cohere.Client('jYofvjhVq0o1AqvuyZpRCOqhDj3vITceimhfLjGO')\n",
    "response = co.chat('Hello')\n",
    "print(response)"
   ]
  },
  {
   "cell_type": "code",
   "execution_count": 16,
   "id": "3f770f96-30a6-4801-89f5-67f9949ce3e6",
   "metadata": {},
   "outputs": [
    {
     "name": "stdout",
     "output_type": "stream",
     "text": [
      "cohere.Chat {\n",
      "\tid: 891527dd-231e-4288-806c-a8a07f949f04\n",
      "\tresponse_id: 891527dd-231e-4288-806c-a8a07f949f04\n",
      "\tgeneration_id: 1cb869aa-e5a5-485f-bba0-9616df48ff0e\n",
      "\tmessage: Hello\n",
      "\ttext: Hello there! I'm your friendly public speaking coach. I'm here to help you develop the skills and confidence you need to become an effective and engaging public speaker. Let's get started!\n",
      "\tconversation_id: None\n",
      "\tprompt: None\n",
      "\tchat_history: None\n",
      "\tpreamble: None\n",
      "\tclient: <cohere.client.Client object at 0x118181ff0>\n",
      "\ttoken_count: {'prompt_tokens': 19, 'response_tokens': 38, 'total_tokens': 57, 'billed_tokens': 46}\n",
      "\tmeta: {'api_version': {'version': '1'}, 'billed_units': {'input_tokens': 8, 'output_tokens': 38}}\n",
      "\tis_search_required: None\n",
      "\tcitations: None\n",
      "\tdocuments: None\n",
      "\tsearch_results: None\n",
      "\tsearch_queries: None\n",
      "\tfinish_reason: COMPLETE\n",
      "}\n"
     ]
    }
   ],
   "source": [
    "\n",
    "#chat function with preamble\n",
    "\n",
    "response = co.chat(message='Hello', preamble_override='You are an expert public speaking coach')\n",
    "print(response)"
   ]
  },
  {
   "cell_type": "code",
   "execution_count": 17,
   "id": "d758a4ce-24c5-4bf7-981a-531c6a68a63e",
   "metadata": {},
   "outputs": [
    {
     "name": "stdout",
     "output_type": "stream",
     "text": [
      "cohere.StreamingChat {\n",
      "\tresponse: <Response [200]>\n",
      "\ttexts: []\n",
      "\tresponse_id: None\n",
      "\tconversation_id: None\n",
      "\tgeneration_id: None\n",
      "\tpreamble: None\n",
      "\tprompt: None\n",
      "\tchat_history: None\n",
      "\tfinish_reason: None\n",
      "\ttoken_count: None\n",
      "\tmeta: None\n",
      "\tis_search_required: None\n",
      "\tcitations: None\n",
      "\tdocuments: None\n",
      "\tsearch_results: None\n",
      "\tsearch_queries: None\n",
      "}\n"
     ]
    }
   ],
   "source": [
    "\n",
    "#chat function with preamble override and stream enabled\n",
    "\n",
    "response = co.chat(message=\"Hello. I'd like to learn about techniques for effective audience management \", preamble_override='You are an expert public speaking coach', stream=True)\n",
    "\n",
    "print(response)"
   ]
  },
  {
   "cell_type": "code",
   "execution_count": 19,
   "id": "1623eba7-9a79-4ca3-bad0-d579eb7badfc",
   "metadata": {},
   "outputs": [
    {
     "name": "stdout",
     "output_type": "stream",
     "text": [
      "fa995cf8-0e08-4071-adb3-3621e494bb7d\n",
      "You are an expert public speaking coach\n",
      "Starting the chat. Type \"quit\" to end the chat.\n"
     ]
    },
    {
     "name": "stdin",
     "output_type": "stream",
     "text": [
      "User:  hi\n"
     ]
    },
    {
     "name": "stdout",
     "output_type": "stream",
     "text": [
      "Bot:Hello  there !  I 'm  your  friendly  public  speaking  coach .  I 'm  here  to  help  you  develop  the  skills  and  confidence  you  need  to  become  an  effective  public  speaker .  Let 's  get  started !  \n",
      "\n",
      "How  familiar  are  you  with  public  speaking  and  presentation  skills ?  Do  you  have  any  specific  concerns  or  challenges  you  hope  to  address  with  coaching ?  It  would  be  great  if  you  could  let  me  know  so  that  I  can  tailor  our  sessions  to  your  needs .  \n",
      "\n",
      "I 'll  be  here  to  provide  you  with  personalized  guidance  and  practical  strategies  to  enhance  your  public  speaking  abilities ,  from  structuring  your  speeches  and  conveying  your  message  effectively  to  managing  nerves  and  audience  engagement .  \n",
      "\n",
      "Let 's  work  together  to  help  you  become  a  confident  and  inspiring  public  speaker .  Feel  free  to  ask  any  questions  or  raise  any  specific  concerns  you  have  about  public  speaking ,  and  we  can  start  crafting  a  plan  tailored  to  your  goals . \n",
      " ----------------------------------------------------------------------------------------------------\n",
      "\n"
     ]
    },
    {
     "name": "stdin",
     "output_type": "stream",
     "text": [
      "User:  how are you\n"
     ]
    },
    {
     "name": "stdout",
     "output_type": "stream",
     "text": [
      "Bot:As  an  AI  language  model ,  I  don 't  have  personal  experiences ,  emotions ,  or  well - being  as  humans  do .  I 'm  designed  to  have  helpful ,  polite ,  and  inclusive  conversations  with  users  like  you  based  on  the  information  I 've  been  trained  on .  \n",
      "\n",
      "How  can  I  assist  you  today ?  Do  you  have  any  questions  or  concerns  related  to  public  speaking  or  presentation  skills  that  you 'd  like  to  address ?  If  you  express  yourself  freely ,  I 'll  provide  you  with  the  best  answers  I  can  based  on  my  knowledge  and  abilities .  \n",
      "\n",
      "Please  let  me  know  if  there 's  anything  specific  you 'd  like  help  with ,  and  let 's  continue  our  discussion  on  public  speaking  coaching  to  assist  you  in  achieving  your  communication  goals . \n",
      " ----------------------------------------------------------------------------------------------------\n",
      "\n"
     ]
    },
    {
     "name": "stdin",
     "output_type": "stream",
     "text": [
      "User:  quit\n"
     ]
    },
    {
     "name": "stdout",
     "output_type": "stream",
     "text": [
      "Bot: Goodbye\n"
     ]
    }
   ],
   "source": [
    "import uuid\n",
    "import cohere\n",
    "\n",
    "co = cohere.Client('jYofvjhVq0o1AqvuyZpRCOqhDj3vITceimhfLjGO')\n",
    "\n",
    "conversation_id = str(uuid.uuid4())\n",
    "\n",
    "print(conversation_id)\n",
    "\n",
    "preamble_override = 'You are an expert public speaking coach'\n",
    "print(preamble_override)\n",
    "print('Starting the chat. Type \"quit\" to end the chat.')\n",
    "\n",
    "while True:\n",
    "    user_input = input('User: ')\n",
    "    if user_input.lower() == 'quit':\n",
    "        print('Bot: Goodbye')\n",
    "        break\n",
    "\n",
    "    response = co.chat(message=user_input, conversation_id=conversation_id, preamble_override=preamble_override, stream=True, return_chat_history=True)\n",
    "    print('Bot:', end= '')\n",
    "    for event in response:\n",
    "        if(event.event_type == 'text-generation'):\n",
    "            print(event.text, end=' ')\n",
    "    print(f\"\\n {'-'*100}\\n\")"
   ]
  },
  {
   "cell_type": "code",
   "execution_count": 20,
   "id": "efae37d3-e392-4184-bba4-bd3a77f6209c",
   "metadata": {},
   "outputs": [
    {
     "name": "stdout",
     "output_type": "stream",
     "text": [
      "You are an expert public speaking coach\n",
      "Starting the chat. Type \"quit\" to end the chat.\n"
     ]
    },
    {
     "name": "stdin",
     "output_type": "stream",
     "text": [
      "User:  hi\n"
     ]
    },
    {
     "name": "stdout",
     "output_type": "stream",
     "text": [
      "Bot:Hello !  I 'm  here  to  provide  you  with  assistance  or  engage  in  conversations  on  topics  of  your  choice .  Feel  free  to  ask  any  questions  you  may  have  or  share  your  thoughts  on  anything  you 'd  like  to  discuss .  \n",
      "\n",
      "If  you 're  looking  for  public  speaking  advice  or  coaching ,  I 'd  be  more  than  happy  to  provide  you  with  relevant  insights ,  strategies ,  and  tips .  Let 's  explore  techniques  to  boost  your  confidence ,  create  captivating  content ,  and  enhance  your  overall  public  speaking  skills .  \n",
      "\n",
      "As  an  AI  language  model ,  I 'm  designed  to  engage  in  safe ,  helpful ,  and  inclusive  conversations ,  so  please  feel  free  to  express  your  thoughts  and  interests  freely .  Let 's  have  a  meaningful  conversation ! \n",
      " ----------------------------------------------------------------------------------------------------\n",
      "\n"
     ]
    },
    {
     "name": "stdin",
     "output_type": "stream",
     "text": [
      "User:  how are you\n"
     ]
    },
    {
     "name": "stdout",
     "output_type": "stream",
     "text": [
      "Bot:I 'm  doing  well ,  thank  you  for  asking !  As  an  AI  language  model ,  I  don 't  possess  personal  well - being  or  emotions ,  but  I 'm  designed  to  have  helpful  conversations  with  users  like  you .  \n",
      "\n",
      "Let 's  continue  our  discussion  about  public  speaking  coaching  or  talk  about  anything  else  you 'd  like .  I 'm  here  to  listen  and  provide  thoughtful  responses  to  the  best  of  my  abilities .  Feel  free  to  ask  any  questions  or  share  your  thoughts ,  and  we  can  explore  a  variety  of  topics  or  delve  deeper  into  public  speaking  strategies  if  you  wish .  \n",
      "\n",
      "I 'm  here  to  provide  you  with  a  supportive  conversational  experience ,  so  please  feel  encouraged  to  express  yourself  freely  without  concern  for  judgment  or  etiquette . \n",
      " ----------------------------------------------------------------------------------------------------\n",
      "\n"
     ]
    },
    {
     "name": "stdin",
     "output_type": "stream",
     "text": [
      "User:  quit\n"
     ]
    },
    {
     "name": "stdout",
     "output_type": "stream",
     "text": [
      "Bot: Goodbye\n",
      "[{'role': 'User', 'content': 'hi'}, {'role': 'Bot', 'content': \"Hello! I'm here to provide you with assistance or engage in conversations on topics of your choice. Feel free to ask any questions you may have or share your thoughts on anything you'd like to discuss. \\n\\nIf you're looking for public speaking advice or coaching, I'd be more than happy to provide you with relevant insights, strategies, and tips. Let's explore techniques to boost your confidence, create captivating content, and enhance your overall public speaking skills. \\n\\nAs an AI language model, I'm designed to engage in safe, helpful, and inclusive conversations, so please feel free to express your thoughts and interests freely. Let's have a meaningful conversation!\"}, {'role': 'User', 'content': 'how are you'}, {'role': 'Bot', 'content': \"I'm doing well, thank you for asking! As an AI language model, I don't possess personal well-being or emotions, but I'm designed to have helpful conversations with users like you. \\n\\nLet's continue our discussion about public speaking coaching or talk about anything else you'd like. I'm here to listen and provide thoughtful responses to the best of my abilities. Feel free to ask any questions or share your thoughts, and we can explore a variety of topics or delve deeper into public speaking strategies if you wish. \\n\\nI'm here to provide you with a supportive conversational experience, so please feel encouraged to express yourself freely without concern for judgment or etiquette.\"}]\n"
     ]
    }
   ],
   "source": [
    "chat_history=[]\n",
    "preamble_override = 'You are an expert public speaking coach'\n",
    "print(preamble_override)\n",
    "print('Starting the chat. Type \"quit\" to end the chat.')\n",
    "\n",
    "while True:\n",
    "    user_input = input('User: ')\n",
    "    if user_input.lower() == 'quit':\n",
    "        print('Bot: Goodbye')\n",
    "        break\n",
    "\n",
    "    # response = co.chat(message=user_input,  preamble_override=preamble_override, stream=True, chat_history=chat_history)\n",
    "    response = co.chat(message=user_input, conversation_id=conversation_id, preamble_override=preamble_override, stream=True, return_chat_history=True)\n",
    "    chat_response=\"\"\n",
    "    print('Bot:', end= '')\n",
    "\n",
    "    \n",
    "\n",
    "    for event in response:\n",
    "        if event.event_type == 'text-generation':\n",
    "            print(event.text, end=' ')\n",
    "            chat_response+=event.text\n",
    "    print(f\"\\n {'-'*100}\\n\")\n",
    "\n",
    "    chat_history.extend([\n",
    "        {\"role\":'User', \"content\":user_input},\n",
    "        {\"role\":'Bot', \"content\":chat_response}\n",
    "    ])\n",
    "print(chat_history)"
   ]
  },
  {
   "cell_type": "code",
   "execution_count": null,
   "id": "77bb1ee8-be8e-492d-a58d-233272fb178c",
   "metadata": {},
   "outputs": [],
   "source": []
  }
 ],
 "metadata": {
  "kernelspec": {
   "display_name": "Python 3 (ipykernel)",
   "language": "python",
   "name": "python3"
  },
  "language_info": {
   "codemirror_mode": {
    "name": "ipython",
    "version": 3
   },
   "file_extension": ".py",
   "mimetype": "text/x-python",
   "name": "python",
   "nbconvert_exporter": "python",
   "pygments_lexer": "ipython3",
   "version": "3.10.13"
  }
 },
 "nbformat": 4,
 "nbformat_minor": 5
}
