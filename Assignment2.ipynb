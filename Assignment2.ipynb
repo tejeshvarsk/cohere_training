{
 "cells": [
  {
   "cell_type": "code",
   "execution_count": 1,
   "id": "99a7e7a0-99af-48f7-abc2-156feee77fe1",
   "metadata": {},
   "outputs": [
    {
     "data": {
      "text/plain": [
       "True"
      ]
     },
     "execution_count": 1,
     "metadata": {},
     "output_type": "execute_result"
    }
   ],
   "source": [
    "from langchain.embeddings.cohere import CohereEmbeddings\n",
    "from langchain.vectorstores import Qdrant\n",
    "\n",
    "from bs4 import BeautifulSoup\n",
    "import requests\n",
    "import re\n",
    "from langchain.text_splitter import RecursiveCharacterTextSplitter\n",
    "\n",
    "import dotenv\n",
    "dotenv.load_dotenv(\".env\")\n"
   ]
  },
  {
   "cell_type": "code",
   "execution_count": 2,
   "id": "ff48cf96-0bb9-4970-a709-008ac88cba0c",
   "metadata": {},
   "outputs": [
    {
     "data": {
      "text/plain": [
       "['Make sure that you are signing in with your Oracle Identity Cloud Service login credentials. To ensure that you sign in',\n",
       " 'through IDCS:.Go to https://cloud.oracle.com..You are prompted to enter your cloud tenant, your user name, and your',\n",
       " \"password. After you're authenticated, you're directed to a region your tenancy is subscribed to. You can switch to other\",\n",
       " 'regions you are subscribed to by using the region selector at the top of the Console..If you need more help signing in, see',\n",
       " 'Sign In to the Console..In the Oracle Cloud Infrastructure commercial realmÂ\\xa0, you can now use https://cloud.oracle.com to',\n",
       " 'sign in to the Console from any region. The regional URLs are being deprecated..Having one Console URL has the following',\n",
       " 'benefits:.If the Console displays a banner notifying you of this change, you are currently using regional URLs. With the',\n",
       " 'move to a single URL, you need to complete the following tasks:.If you have questions or a custom configuration, create a',\n",
       " 'support request. When describing your issue, include the following details:.You can access the My Services dashboard by',\n",
       " \"using this URL:.where you replace <tenancyname> with your company's tenancy name..When you sign up for Oracle Cloud\",\n",
       " 'Infrastructure, Oracle creates a tenancy for you in one region. This is your home region. Your home region is where your IAM',\n",
       " 'resources are defined. When you subscribe to another region, your IAM resources are available in the new region. However,',\n",
       " 'the definitions reside in your home region and can only be changed there..To find out what your home region is:.Open the',\n",
       " \"Profile menu and click Tenancy: <your_tenancy_name>..You can view your tenancy's service limits in the Console and request\",\n",
       " 'an increase. For more information and the default tenancy limits, see Service Limits..Oracle Cloud Infrastructure provides a',\n",
       " 'set of APIs for  the core services (network, compute, block volumes) as well as for the IAM and the Object Storage services.',\n",
       " '.For general information about using the API, see REST APIs. For service-specific operations, see the appropriate topic',\n",
       " 'within the help. .Oracle Cloud Infrastructure supports the following browsers and versions:.If you are having trouble',\n",
       " 'signing in to the Console using the Firefox browser, it might be because of one of the following conditions:.You are in',\n",
       " \"Private Browsing mode. The Console doesn't support Private Browsing mode. Open a new session of Firefox with Private\",\n",
       " \"Browsing turned off. If you require Private Browsing, you can set Firefox's dom.indexedDB.privateBrowsing.enabled preference\",\n",
       " 'to true to allow the Console to save login-related information to local storage. For more information, see',\n",
       " \"https://support.mozilla.org/en-US/kb/about-config-editor-firefox..You aren't on the latest version of Firefox. Upgrade to\",\n",
       " 'the latest version. To check to see if you are on the latest version, follow these instructions:',\n",
       " 'https://support.mozilla.org/en-US/kb/find-what-version-firefox-you-are-using.When checking the version, note whether you are',\n",
       " 'using Firefox or Firefox ESR..Upgrade to the latest version of Firefox..If none of the preceding suggestions resolves your',\n",
       " 'issue, contact Oracle Support. In your problem description, ensure you specify whether you are using Firefox or Firefox',\n",
       " 'ESR..For Federated Users.If your company uses an identity provider (other than Oracle Identity Cloud Service) to manage user',\n",
       " \"logins and passwords, you can't use the Console to update your password. You do that with your identity provider..After you\",\n",
       " 'sign in, go to the top-right corner of the Console, open the Profile menu and then click Change password..If you added an',\n",
       " 'email address to your user settings, you can use the Forgot Password link on the sign-in page to have a temporary password',\n",
       " \"sent to you. If you don't have an email address included with your user details, then an administrator must  reset your\",\n",
       " 'password. Contact your administrator to reset your password for you. Your administrator will give you a temporary password',\n",
       " \"that is good for 7 days. If you do not use it in 7 days, the password will expire and you'll need to get your administrator\",\n",
       " 'to create a new one-time password for you..If you are the default or tenant administrator for your site and you forgot your',\n",
       " 'password, contact  Oracle Support. For tips on filing a service request, see Getting Help and Contacting Support..See',\n",
       " 'Getting Help and Contacting Support..Get the tenancy OCID from the Oracle Cloud Infrastructure Console on the Tenancy',\n",
       " 'Details page: .Open the Profile menu and click Tenancy: <your_tenancy_name>..The tenancy OCID is shown under Tenancy',\n",
       " 'Information. Click Show to display the entire ID or click Copy to copy it to your clipboard..']"
      ]
     },
     "execution_count": 2,
     "metadata": {},
     "output_type": "execute_result"
    }
   ],
   "source": [
    "url= \"https://docs.oracle.com/en-us/iaas/Content/GSG/Reference/faq.htm\"\n",
    "soup = BeautifulSoup(requests.get(url).text, \"html.parser\")\n",
    "# paragraphs_raw = soup.find_all('p')[:3]\n",
    "paragraphs_raw = soup.find_all('p')\n",
    "raw_text = [re.sub(\"\\\\n\\\\s+\",\" \", paragraph.get_text()) for paragraph in paragraphs_raw]\n",
    "# clean_text=re.sub(\"\\.+\\\\s*\\.*\", \". \", '.'.join(raw_text))\n",
    "clean_text='.'.join(raw_text)\n",
    "splitter = RecursiveCharacterTextSplitter(chunk_size = 125,\n",
    "    chunk_overlap  = 0,\n",
    "    length_function = len,)\n",
    "text_list = splitter.split_text(clean_text)\n",
    "text_list"
   ]
  },
  {
   "cell_type": "code",
   "execution_count": 3,
   "id": "c01a206c-5376-4c29-a069-76ab1728943f",
   "metadata": {},
   "outputs": [],
   "source": [
    "embeddings = CohereEmbeddings(model='multilingual-22-12')\n",
    "\n",
    "db = Qdrant.from_texts(text_list, embeddings, location=\":memory:\", collection_name=\"my_documents\", distance_func=\"Dot\")"
   ]
  },
  {
   "cell_type": "code",
   "execution_count": 4,
   "id": "eaf45364-6e8f-4cbb-bd2a-de9762e96e8b",
   "metadata": {},
   "outputs": [],
   "source": [
    "queries = [\"How to find your home region\",\n",
    "           \"How to subscribe to another region\",\n",
    "           \"How to login to IDCS\",\n",
    "           \"How to increase the service limit\",\n",
    "           \"In which region is the tenancy created\",\n",
    "          ]"
   ]
  },
  {
   "cell_type": "code",
   "execution_count": 5,
   "id": "65f3f4bc-5a92-4e58-9289-be2c141571fa",
   "metadata": {},
   "outputs": [
    {
     "data": {
      "text/plain": [
       "['regions you are subscribed to by using the region selector at the top of the Console..If you need more help signing in, see',\n",
       " 'regions you are subscribed to by using the region selector at the top of the Console..If you need more help signing in, see',\n",
       " 'through IDCS:.Go to https://cloud.oracle.com..You are prompted to enter your cloud tenant, your user name, and your',\n",
       " \"Profile menu and click Tenancy: <your_tenancy_name>..You can view your tenancy's service limits in the Console and request\",\n",
       " 'Infrastructure, Oracle creates a tenancy for you in one region. This is your home region. Your home region is where your IAM']"
      ]
     },
     "execution_count": 5,
     "metadata": {},
     "output_type": "execute_result"
    }
   ],
   "source": [
    "answers = []\n",
    "\n",
    "for query in queries:\n",
    "    docs = db.similarity_search(query)\n",
    "    answers.append(docs[0].page_content)\n",
    "\n",
    "answers"
   ]
  },
  {
   "cell_type": "code",
   "execution_count": null,
   "id": "d85d7512-4c64-4685-b4a8-ddaf442f1d72",
   "metadata": {},
   "outputs": [],
   "source": []
  }
 ],
 "metadata": {
  "kernelspec": {
   "display_name": "Python 3 (ipykernel)",
   "language": "python",
   "name": "python3"
  },
  "language_info": {
   "codemirror_mode": {
    "name": "ipython",
    "version": 3
   },
   "file_extension": ".py",
   "mimetype": "text/x-python",
   "name": "python",
   "nbconvert_exporter": "python",
   "pygments_lexer": "ipython3",
   "version": "3.10.13"
  }
 },
 "nbformat": 4,
 "nbformat_minor": 5
}
