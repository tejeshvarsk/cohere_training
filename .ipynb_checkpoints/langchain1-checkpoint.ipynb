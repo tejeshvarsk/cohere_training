{
 "cells": [
  {
   "cell_type": "code",
   "execution_count": null,
   "id": "607371a0-5002-425e-8923-9379c693cfe8",
   "metadata": {},
   "outputs": [],
   "source": [
    "from langchain_community.chat_models import ChatCohere\n",
    "from langchain_core.messages import AIMessage, HumanMessage\n",
    "\n",
    "cohere_chat_model = ChatCohere(cohere_api_key=\"jYofvjhVq0o1AqvuyZpRCOqhDj3vITceimhfLjGO\")\n",
    "\n",
    "# Send a chat message without chat history\n",
    "current_message = [HumanMessage(content=\"knock knock\")]\n",
    "print(cohere_chat_model(current_message))\n",
    "\n",
    "# Send a chat message with chat history, note the last message is the current user message\n",
    "current_message_and_history = [\n",
    "    HumanMessage(content=\"knock knock\"),\n",
    "    AIMessage(content=\"Who's there?\"),\n",
    "    HumanMessage(content=\"Tank\") ]\n",
    "print(cohere_chat_model(current_message_and_history))"
   ]
  },
  {
   "cell_type": "code",
   "execution_count": null,
   "id": "b96a0396-abcd-45a3-978a-c6a20f91b029",
   "metadata": {},
   "outputs": [],
   "source": []
  }
 ],
 "metadata": {
  "kernelspec": {
   "display_name": "Python 3 (ipykernel)",
   "language": "python",
   "name": "python3"
  },
  "language_info": {
   "codemirror_mode": {
    "name": "ipython",
    "version": 3
   },
   "file_extension": ".py",
   "mimetype": "text/x-python",
   "name": "python",
   "nbconvert_exporter": "python",
   "pygments_lexer": "ipython3",
   "version": "3.10.13"
  }
 },
 "nbformat": 4,
 "nbformat_minor": 5
}
