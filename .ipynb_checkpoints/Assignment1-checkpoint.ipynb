{
 "cells": [
  {
   "cell_type": "code",
   "execution_count": 1,
   "id": "760cfb53-2a29-4189-ad9b-40cacaebc35d",
   "metadata": {},
   "outputs": [
    {
     "data": {
      "text/plain": [
       "True"
      ]
     },
     "execution_count": 1,
     "metadata": {},
     "output_type": "execute_result"
    }
   ],
   "source": [
    "from langchain.embeddings.cohere import CohereEmbeddings\n",
    "from langchain.llms import Cohere\n",
    "from langchain.prompts import PromptTemplate\n",
    "from langchain.text_splitter import RecursiveCharacterTextSplitter\n",
    "from langchain.chains.question_answering import load_qa_chain\n",
    "from langchain.chains import RetrievalQA\n",
    "from langchain.vectorstores import Qdrant\n",
    "from langchain.document_loaders import TextLoader\n",
    "\n",
    "import textwrap as tr\n",
    "import random\n",
    "import dotenv\n",
    "import os\n",
    "\n",
    "dotenv.load_dotenv(\".env\")"
   ]
  },
  {
   "cell_type": "code",
   "execution_count": 2,
   "id": "53caf9e8-283f-4bfc-b04d-f962f563f2bd",
   "metadata": {},
   "outputs": [
    {
     "name": "stdout",
     "output_type": "stream",
     "text": [
      "3653\n"
     ]
    }
   ],
   "source": [
    "from langchain.retrievers import WikipediaRetriever\n",
    "wiki_retriever = WikipediaRetriever()\n",
    "wiki_docs = wiki_retriever.get_relevant_documents(\"Cohere\" )\n",
    "raw_text=wiki_docs[0].page_content\n",
    "raw_text=raw_text.split(\"\\n\\n\")[:3]\n",
    "raw_text=\"\".join(raw_text)\n",
    "\n",
    "print(len(raw_text))\n",
    "splitter = RecursiveCharacterTextSplitter(chunk_size = 100,\n",
    "    chunk_overlap  = 0,\n",
    "    length_function = len,)\n",
    "text_list = splitter.split_text(raw_text)"
   ]
  },
  {
   "cell_type": "code",
   "execution_count": 3,
   "id": "a79d06fa-2bd1-488d-b40b-0776fa98f0d6",
   "metadata": {},
   "outputs": [],
   "source": [
    "queries = [\"who published paper 'Attention is All You Need'\",\n",
    "           \"When did cohere launch Cohere For AI\",\n",
    "          \"When did Cohere released a multilingual model for understanding text \",\n",
    "          \"When did oracle announced partnership with cohere\",\n",
    "           \"How many tech companies agree to voluntary White House measures on testing, reporting, and research on the risks of AI\",\n",
    "          ]"
   ]
  },
  {
   "cell_type": "code",
   "execution_count": 4,
   "id": "f9e46052-9cd4-4af4-a2b1-15db63f4a9f8",
   "metadata": {},
   "outputs": [],
   "source": [
    "embeddings = CohereEmbeddings(model='multilingual-22-12')\n",
    "\n",
    "db = Qdrant.from_texts(text_list, embeddings, location=\":memory:\", collection_name=\"my_documents\", distance_func=\"Dot\")"
   ]
  },
  {
   "cell_type": "code",
   "execution_count": 5,
   "id": "71578856-0506-4195-8e51-8ef88350a204",
   "metadata": {},
   "outputs": [],
   "source": [
    "answers = []\n",
    "\n",
    "for query in queries:\n",
    "    docs = db.similarity_search(query)\n",
    "    answers.append(docs[0].page_content)"
   ]
  },
  {
   "cell_type": "code",
   "execution_count": 6,
   "id": "b74a0e6d-ad1a-44c9-97be-87a887d176d6",
   "metadata": {},
   "outputs": [
    {
     "data": {
      "text/plain": [
       "['called \"Attention is All You Need,\" which introduced the transformer machine learning architecture,',\n",
       " 'the development and deployment of their products.In June 2022, Cohere launched Cohere For AI, a',\n",
       " 'December 2022, Cohere released a multilingual model for understanding text that would work with',\n",
       " '2023, Oracle announced a partnership with Cohere to provide generative AI services to help',\n",
       " 'to agree to voluntary White House measures on testing, reporting, and research on the risks of AI.']"
      ]
     },
     "execution_count": 6,
     "metadata": {},
     "output_type": "execute_result"
    }
   ],
   "source": [
    "answers"
   ]
  },
  {
   "cell_type": "code",
   "execution_count": null,
   "id": "81c1bae3-7f30-456d-a8a9-8d7350fa57a3",
   "metadata": {},
   "outputs": [],
   "source": []
  }
 ],
 "metadata": {
  "kernelspec": {
   "display_name": "Python 3 (ipykernel)",
   "language": "python",
   "name": "python3"
  },
  "language_info": {
   "codemirror_mode": {
    "name": "ipython",
    "version": 3
   },
   "file_extension": ".py",
   "mimetype": "text/x-python",
   "name": "python",
   "nbconvert_exporter": "python",
   "pygments_lexer": "ipython3",
   "version": "3.10.13"
  }
 },
 "nbformat": 4,
 "nbformat_minor": 5
}
