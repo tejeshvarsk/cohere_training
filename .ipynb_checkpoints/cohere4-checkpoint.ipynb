{
 "cells": [
  {
   "cell_type": "code",
   "execution_count": 4,
   "id": "06dbd237-9fa7-4c61-833d-b10d27981458",
   "metadata": {},
   "outputs": [],
   "source": [
    "import cohere\n",
    "import time\n",
    "import pandas as pd\n",
    "api_key='jYofvjhVq0o1AqvuyZpRCOqhDj3vITceimhfLjGO'\n",
    "co = cohere.Client(api_key)"
   ]
  },
  {
   "cell_type": "code",
   "execution_count": 7,
   "id": "8a8d74b4-f51f-4602-95b2-0e227f5287cc",
   "metadata": {},
   "outputs": [],
   "source": [
    "prompt=\"\"\"The killer whale or orca (Orcinus orca) is a toothed whale belonging to the oceanic dolphin family, of which it is the largest member\"\n",
    "In summary: \"The killer whale or orca is the largest type of dolphin\"\n",
    "---\n",
    "\"It is recognizable by its black-and-white patterned body\" \n",
    "In summary:\"Its body has a black and white pattern\"\n",
    "---\n",
    "\"Killer whales have a diverse diet, although individual populations often specialize in particular types of prey\" \n",
    "In summary:\"\"\""
   ]
  },
  {
   "cell_type": "code",
   "execution_count": 8,
   "id": "65a010d2-b31e-4192-8065-a75ff6246656",
   "metadata": {},
   "outputs": [],
   "source": [
    "num_generations=5\n",
    "predictions = co.generate(model='command', \n",
    "                          prompt=prompt, \n",
    "                          temperature=0.7, \n",
    "                          num_generations=num_generations)"
   ]
  },
  {
   "cell_type": "code",
   "execution_count": null,
   "id": "4eac983e-9087-4aee-a2b0-a45af5866125",
   "metadata": {},
   "outputs": [],
   "source": []
  }
 ],
 "metadata": {
  "kernelspec": {
   "display_name": "Python 3 (ipykernel)",
   "language": "python",
   "name": "python3"
  },
  "language_info": {
   "codemirror_mode": {
    "name": "ipython",
    "version": 3
   },
   "file_extension": ".py",
   "mimetype": "text/x-python",
   "name": "python",
   "nbconvert_exporter": "python",
   "pygments_lexer": "ipython3",
   "version": "3.10.13"
  }
 },
 "nbformat": 4,
 "nbformat_minor": 5
}
