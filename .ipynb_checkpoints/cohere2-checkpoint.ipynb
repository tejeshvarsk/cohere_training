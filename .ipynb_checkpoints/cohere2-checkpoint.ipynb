{
 "cells": [
  {
   "cell_type": "code",
   "execution_count": 1,
   "id": "73a054a3-6cce-4cf8-89a1-3c7d64d09baf",
   "metadata": {},
   "outputs": [],
   "source": [
    "import cohere\n",
    "import pandas as pd\n",
    "import altair\n",
    "import textwrap as tr"
   ]
  },
  {
   "cell_type": "code",
   "execution_count": 2,
   "id": "6d52be25-34f9-4d54-b60d-a7d1032d9585",
   "metadata": {},
   "outputs": [
    {
     "name": "stdout",
     "output_type": "stream",
     "text": [
      " \"Bonjour à tous\" is how you would say \"Hello all\" in French. \n",
      "\n",
      "It is worth noting that this greeting is normally used in written form. You may want to consider using the singular \"Bonjour\" if you are greeting someone you know, or \"Bonjour comment allez-vous ?\" (which translates to \"Hello, how are you?) if you are addressing someone you do not know in a formal setting. \n"
     ]
    }
   ],
   "source": [
    "co = cohere.Client('jYofvjhVq0o1AqvuyZpRCOqhDj3vITceimhfLjGO')\n",
    "response  = co.generate(model=\"command\", prompt=\"Translate from English to French : 'Hello All\", max_tokens=100)\n",
    "print(response.generations[0].text)"
   ]
  },
  {
   "cell_type": "code",
   "execution_count": 3,
   "id": "fe23a650-be5b-45cd-b81b-5c385b7ae704",
   "metadata": {},
   "outputs": [
    {
     "name": "stdout",
     "output_type": "stream",
     "text": [
      " is often used to try out a new language or system and upon execution, the message \"Hello, World!\"\n",
      "is printed out.   It's been a longstanding tradition in the programming world, and is often the\n",
      "first program encountered when learning a new language.\n",
      "****************************************************************************************************\n",
      " is often used to introduce programming beginners to the most basic concepts of creating a working\n",
      "program. The phrase \"Hello, World!\" or \"Hello World\" is often used to represent a simple piece of\n",
      "code, notably the first program that many programming courses teach.   In programming languages,\n",
      "including Java, C, and Python, the phrase is often used as a default program that can be used to\n",
      "demonstrate how to create a simple program.   The \"Hello World!\" program has a single purpose: to\n",
      "print the phrase \"Hello, World!\" to the console, console window, or GUI, depending on the\n",
      "programming language.   It is often used as a simple confidence test to ensure that the code you are\n",
      "writing can be executed and produces the expected results.\n",
      "****************************************************************************************************\n",
      " is often used to introduce programming beginners to the basics of coding. The phrase \"hello world\"\n",
      "is a test message that is straightforwardly displayed on the screen to assure that the programming\n",
      "language's basic syntax and execution workings have been properly configured.  When you write a\n",
      "\"Hello, World!\" program, you are essentially writing a computer program that prints out the message\n",
      "\"Hello, World!\" on the screen. This is a simple program designed to demonstrate how to write and run\n",
      "a program in a particular programming language. Such a program is typically very basic and does not\n",
      "perform any complicated tasks or operations.  The \"Hello World\" program is often used to teach\n",
      "programming concepts and principles because it teaches how to create a basic program with a clear\n",
      "and easily understood purpose. It can also serve as a benchmark to familiarize oneself with a new\n",
      "language, framework, or technical tool by assisting users in setting up a development environment,\n",
      "compiling and running a program, and explaining the basic structure of a software application.\n",
      "****************************************************************************************************\n",
      " is often used to test out code and get started with a new language or system. It's a classic and\n",
      "timeless snippet of code that has been used by beginners and experts alike for decades.  The \"Hello,\n",
      "World!\" markus is a joke based on the movie \"The Social Network\", where the protagonist is portrayed\n",
      "as a genius who creates a website that automatically generates the most lucrative niche market every\n",
      "time. In the movie, he creates a program that prints \"Hello, World!\" in order to make fun of the\n",
      "mainstream adoption of this iconic program.   Let me know if you would like me to expand on any of\n",
      "the information provided above!\n",
      "****************************************************************************************************\n",
      " is often used to test out code and see if a language's compiler, interpreter, or runtime\n",
      "environment is working correctly. The phrase \"hello world\" is a cultural phenomenon that has been\n",
      "referenced in numerous ways throughout computing history.   It dates back to 1974, when computer\n",
      "scientist Brian Kernighan, who was working on the B programming language, wanted to make the new\n",
      "language more accessible to less technical people. The phrase \"hello world\" was chosen as a simple,\n",
      "friendly way to welcome users who were trying out the language for the first time. Since then, it\n",
      "has been adopted by many different programming languages and has become a standard way to illustrate\n",
      "how to write a basic program.   When you learn a new programming language, it's common to start with\n",
      "a simple \"hello world\" program as your first exercise. The idea is to show how to create a new file,\n",
      "write a simple line of code, and then run that line to see the output. Although it may seem trivial\n",
      "****************************************************************************************************\n"
     ]
    }
   ],
   "source": [
    "prompt = \"Hello world is a program that\"\n",
    "\n",
    "response = co.generate(model='command', prompt=prompt, max_tokens=200, temperature=0.5, num_generations=5)\n",
    "for i in range(5):\n",
    "    print(tr.fill(response.generations[i].text, width=100))\n",
    "    print(\"*\"*100)"
   ]
  },
  {
   "cell_type": "code",
   "execution_count": 5,
   "id": "e658fa29-b4ae-47a1-baf0-5f2588fada19",
   "metadata": {},
   "outputs": [
    {
     "name": "stdout",
     "output_type": "stream",
     "text": [
      " If you're interested in coding, there's no better way to start than with the classic \"Hello,\n",
      "World!\"  program. In this blog, we'll provide an overview of the basics of writing this foundational\n",
      "code,  offer an understanding of various programming concepts, and provide you with the tools to\n",
      "take your  coding skills to the next level.\n"
     ]
    }
   ],
   "source": [
    "model=\"command\"\n",
    "prompt=\"\"\"\n",
    "Blog Title: Best Activities in Toronto\n",
    "First Paragraph: Looking for fun things to do in Toronto? When it comes to exploring Canada's\n",
    "largest city, there's an ever-evolving set of activities to choose from. Whether you're looking to\n",
    "visit a local museum or sample the city's varied cuisine, there is plenty to fill any itinerary. In\n",
    "this blog post, I'll share some of my favorite recommendations\n",
    "--\n",
    "Blog Title: Mastering Dynamic Programming\n",
    "First Paragraph: In this piece, we'll help you understand the fundamentals of dynamic programming,\n",
    "and when to apply this optimization technique. We'll break down bottom-up and top-down approaches to\n",
    "solve dynamic programming problems.\n",
    "--\n",
    "Blog Title: Learning to Code with Hello, World!\n",
    "First Paragraph:\n",
    "\"\"\"\n",
    "\n",
    "response = co.generate(prompt=prompt, model=model, max_tokens=200, temperature=0.5)\n",
    "print(tr.fill(response.generations[0], width=100))"
   ]
  },
  {
   "cell_type": "code",
   "execution_count": 6,
   "id": "23e64755-395f-4b89-8369-e8d126945bc7",
   "metadata": {},
   "outputs": [],
   "source": [
    "def generate_text(base_prompt, current_prompt):\n",
    "    \"\"\"\n",
    "  Generate text given a prompt\n",
    "  Arguments:\n",
    "    base_prompt(str): the base prompt containing the examples\n",
    "    current_prompt(str): the new topic to generate\n",
    "  Returns:\n",
    "    generation(str): the newly generated output text\n",
    "  \"\"\"\n",
    "    response = co.generate(model=model, \n",
    "                           prompt=base_prompt+current_prompt, \n",
    "                           max_tokens=200, \n",
    "                           temperature=0.2,\n",
    "                           stop_sequences=[\"--\"])\n",
    "    generation = response.generations[0].text\n",
    "    return generation"
   ]
  },
  {
   "cell_type": "code",
   "execution_count": 7,
   "id": "3b3d2f37-3b66-4848-8086-3dd8a9f31115",
   "metadata": {},
   "outputs": [],
   "source": [
    "base_prompt = \"\"\"\n",
    "Write the first paragraph of a blog post given a blog title.\n",
    "--\n",
    "Blog Title: Best Activities in Toronto\n",
    "First Paragraph: Looking for fun things to do in Toronto? When it comes to exploring Canada's\n",
    "largest city, there's an ever-evolving set of activities to choose from. Whether you're looking to\n",
    "visit a local museum or sample the city's varied cuisine, there is plenty to fill any itinerary. In\n",
    "this blog post, I'll share some of my favorite recommendations\n",
    "--\n",
    "Blog Title: Mastering Dynamic Programming\n",
    "First Paragraph: In this piece, we'll help you understand the fundamentals of dynamic programming,\n",
    "and when to apply this optimization technique. We'll break down bottom-up and top-down approaches to\n",
    "solve dynamic programming problems.\n",
    "--\n",
    "Blog Title:\"\"\""
   ]
  },
  {
   "cell_type": "code",
   "execution_count": 8,
   "id": "e447d438-a5eb-49c1-8ab8-47006764e4b4",
   "metadata": {},
   "outputs": [],
   "source": [
    "topics =[\"How to Grow in Your Career\",\n",
    "          \"The Habits of Great Software Developers\",\n",
    "          \"Ideas for a Relaxing Weekend\"]"
   ]
  },
  {
   "cell_type": "code",
   "execution_count": 14,
   "id": "57e92028-cd2a-4288-bdce-45699a1053b1",
   "metadata": {},
   "outputs": [],
   "source": [
    "for topic in topics:\n",
    "    curr_prompt = topic + \"\\n\" + \"First paragraph:\"\n",
    "    para = generate_text(base_prompt, curr_prompt)\n",
    "    paragraphs.append(para)"
   ]
  },
  {
   "cell_type": "code",
   "execution_count": 18,
   "id": "919c165b-1b43-43fa-9b18-b17f04d855ef",
   "metadata": {
    "scrolled": true
   },
   "outputs": [
    {
     "name": "stdout",
     "output_type": "stream",
     "text": [
      "Topic : How to Grow in Your Career\n",
      "First Paragraph :  Regardless of your industry, career growth is a prominent consideration for all young professionals. \n",
      "\n",
      "The ascent from entry-level positions can be challenging, with many hidden pitfalls and ineffective strategies. This blog aims to navigate you through the complex process of growing in your career. \n",
      "----------------------------------------------------------------------------------------------------\n",
      "Topic : The Habits of Great Software Developers\n",
      "First Paragraph :  Successful software development requires more than just technical skills. Great software developers exhibit a combination of habits that contribute to consistent and exceptional work. In this blog, we will examine these habits and explore how practitioners can incorporate them into their own approaches to foster better collaboration, productivity, and creativity within the field. \n",
      "----------------------------------------------------------------------------------------------------\n",
      "Topic : Ideas for a Relaxing Weekend\n",
      "First Paragraph :  Weekends are a time to relax and unwind after a long week. Here are some ideas for a relaxing weekend. You can take a hike or walk in a nature area, nearby or whichever spot is closest to you. Spending time outdoors, even if it's just laying in the sun, will rejuvenate you. If you prefer to stay indoors you can catch up on your favorite tv shows or read a book. You can also spend time with family or friends doing activities you enjoy Most importantly, make sure to prioritize your wellness activities like yoga or meditation, or even trying a new face mask to hydrate your skin. Let me know how you decide to relax and any other ideas you have in the comments. \n",
      "----------------------------------------------------------------------------------------------------\n"
     ]
    }
   ],
   "source": [
    "for topic, para in zip(topics, paragraphs):\n",
    "    print(\"Topic : {}\".format(topic))\n",
    "    print(\"First Paragraph : {}\".format(para))\n",
    "    print(\"-\"*100)"
   ]
  },
  {
   "cell_type": "code",
   "execution_count": 36,
   "id": "4a3a8cd0-b5bd-424b-8e99-274227b6971c",
   "metadata": {},
   "outputs": [
    {
     "name": "stdout",
     "output_type": "stream",
     "text": [
      "Topic : How to Grow in Your Career \n",
      "First Paragraph:  Regardless of your industry, career growth is a prominent concern for all professionals. \n",
      "\n",
      "Throughout our professional lives, it is essential to reflect, adapt, and evolve with the\n",
      "changing environment. This growth enables you to innovate, increase efficiency, and\n",
      "ultimately strengthen your reputation within the workforce. In this blog, I will share\n",
      "various practical strategies that you can implement to promote continuous growth in\n",
      "your career. \n",
      "----------------------------------------------------------------------------------------------------\n",
      "Topic : The Habits of Great Software Developers \n",
      "First Paragraph:  Successful software development thrives on consistent practices and techniques. In this blog, I will share an overview of the essential habits of highly effective software developers. These habits include approaches to learning, creativity, and collaboration that will help developers stay relevant and optimal in their career journeys. \n",
      "----------------------------------------------------------------------------------------------------\n",
      "Topic : Ideas for a Relaxing Weekend \n",
      "First Paragraph:  Weekends are a chance to relax and unwind after a long week. Here are some ideas for a relaxing weekend, including taking a hot bath, reading a good book, and watching your favorite movies. You can also try out some mindfulness practices like meditation or yoga. If you're looking for something more active, go for a walk or a gentle hike to enjoy the nature around you. These are just a few ideas, but there are plenty of ways to relax and enjoy your weekend. \n",
      "----------------------------------------------------------------------------------------------------\n"
     ]
    }
   ],
   "source": [
    "result = [\"Topic : {} \\nFirst Paragraph: {}\\n{}\".format(topic, generate_text(base_prompt, topic + \"\\n\" + \"First paragraph:\"), \"-\"*100) for topic in topics]\n",
    "for i in range(len(result)) : print(result[i])"
   ]
  },
  {
   "cell_type": "code",
   "execution_count": 39,
   "id": "c5012c24-cde9-482f-9f7e-4386dfc38456",
   "metadata": {},
   "outputs": [
    {
     "name": "stdout",
     "output_type": "stream",
     "text": [
      "Topic : How to Grow in Your Career\n",
      "First Paragraph :  Regardless of your industry, career growth is a prominent concern for all professionals. \n",
      "\n",
      "Throughout our professional lives, we strive to draw attention from our superiors and institutions \n",
      "\n",
      "to acknowledge our work through promotions and raises. To do so, we must understand the elements \n",
      "\n",
      "that compose a successful career. In this blog post, we will dive into the ways you can grow in your \n",
      "\n",
      "career and set yourself up for success. \n",
      "----------------------------------------------------------------------------------------------------\n",
      "Topic : The Habits of Great Software Developers\n",
      "First Paragraph :  Successful software development requires more than just technical skills. Great software developers exhibit a combination of habits that contribute to consistent and exceptional work. In this blog, we will examine these habits and explore how practitioners can incorporate them into their own approaches to foster better collaboration, productivity, and creativity within the field. \n",
      "----------------------------------------------------------------------------------------------------\n",
      "Topic : Ideas for a Relaxing Weekend\n",
      "First Paragraph :  Weekends are a time to relax and recharge. It is important to set time aside for yourself and engage in activities that nurture your well-being. In this blog post, I will share some practical and innovative ways to take advantage of your time off and de-stress from the week's activities. Whether you are looking for peace and quiet or a fun adventure, I've got you covered! \n",
      "----------------------------------------------------------------------------------------------------\n"
     ]
    }
   ],
   "source": [
    "for topic in topics:\n",
    "    curr_prompt = topic + \"\\n\" + \"First paragraph:\"\n",
    "    para = generate_text(base_prompt, curr_prompt)\n",
    "    print(\"Topic : {}\".format(topic))\n",
    "    print(\"First Paragraph : {}\".format(para))\n",
    "    print(\"-\"*100)"
   ]
  },
  {
   "cell_type": "code",
   "execution_count": null,
   "id": "8b62d53f-01bd-459c-81f2-79c235e45bb0",
   "metadata": {},
   "outputs": [],
   "source": []
  }
 ],
 "metadata": {
  "kernelspec": {
   "display_name": "Python 3 (ipykernel)",
   "language": "python",
   "name": "python3"
  },
  "language_info": {
   "codemirror_mode": {
    "name": "ipython",
    "version": 3
   },
   "file_extension": ".py",
   "mimetype": "text/x-python",
   "name": "python",
   "nbconvert_exporter": "python",
   "pygments_lexer": "ipython3",
   "version": "3.10.13"
  }
 },
 "nbformat": 4,
 "nbformat_minor": 5
}
