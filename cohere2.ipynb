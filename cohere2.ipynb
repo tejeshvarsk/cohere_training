{
 "cells": [
  {
   "cell_type": "code",
   "execution_count": 1,
   "id": "73a054a3-6cce-4cf8-89a1-3c7d64d09baf",
   "metadata": {},
   "outputs": [],
   "source": [
    "import cohere\n",
    "import pandas as pd\n",
    "import altair\n",
    "import textwrap as tr"
   ]
  },
  {
   "cell_type": "code",
   "execution_count": 2,
   "id": "6d52be25-34f9-4d54-b60d-a7d1032d9585",
   "metadata": {},
   "outputs": [
    {
     "name": "stdout",
     "output_type": "stream",
     "text": [
      " \"Bonjour à tous\" is how you say \"Hello all\" in French. \n",
      "\n",
      "I can translate other text from English to French for you if needed. \n"
     ]
    }
   ],
   "source": [
    "co = cohere.Client('jYofvjhVq0o1AqvuyZpRCOqhDj3vITceimhfLjGO')\n",
    "response  = co.generate(model=\"command\", prompt=\"Translate from English to French : 'Hello All\", max_tokens=100)\n",
    "print(response.generations[0].text)"
   ]
  },
  {
   "cell_type": "code",
   "execution_count": 3,
   "id": "fe23a650-be5b-45cd-b81b-5c385b7ae704",
   "metadata": {},
   "outputs": [
    {
     "name": "stdout",
     "output_type": "stream",
     "text": [
      " is often used to try out a new language or development environment to ensure that it is working\n",
      "correctly. When the command is executed, the user will see the phrase \"Hello, World!\" displayed on\n",
      "the screen or console output.   It's a classic starting point for learning programming basics, and\n",
      "many developers consider it a rite of passage in the beginning phases of their coding journey.   The\n",
      "history of \"Hello, World!\" dates back to the 1970s when it was used to illustrate the basics of the\n",
      "Computing Center Management System (CCMS) language. Since then, it has been adopted and adapted by\n",
      "many other programming languages and has become a ubiquitous tradition in the programming community.\n",
      "When you want to ensure that your development environment is correctly configured, it is a quick and\n",
      "simple program to write.   It's a universal ritual that connects programmers across languages,\n",
      "platforms, and eras. It's a way to take pride in their accomplishments and celebrate their entry\n",
      "into the world of coding.\n",
      "****************************************************************************************************\n",
      " is often used to try out a new language or system and upon execution, the phrase \"Hello, World!\" is\n",
      "printed out as output.   It's a ritual that's been followed for decades and has become a standard\n",
      "practice for coders worldwide. So whatever programming language you use, this is the first program\n",
      "you'll create.   It's worth noting that the tradition of writing a Hello World program to introduce\n",
      "oneself to a new language has its origins in the original Hello World program, which was written in\n",
      "1972 by Brian Kernighan, a Canadian programmer who is now a software engineer at Google, and his\n",
      "colleague Dennis Ritchie, who is commonly regarded as the inventor of the C programming language.\n",
      "****************************************************************************************************\n",
      " is often used to try out a new language or system and upon execution, the phrase \"Hello, World!\" is\n",
      "printed out as output.   It's a ritual that's been followed for decades and has become a standard\n",
      "practice for coders. Trying out a new language is about to get a whole lot more exciting because of\n",
      "what is going to be showcased in the future.\n",
      "****************************************************************************************************\n",
      " is often used to try out a new language or system. It's typically a simple program that prints the\n",
      "words \"hello world\" to the console or display, and is used to illustrate the basic syntax and\n",
      "structure of a language.   For example, the \"Hello, World!\" program is a simple program made in C\n",
      "that only contains two function declarations and a for loop.   It is meant to be a trivial example\n",
      "that can be used to familiarize oneself with a language's unique syntax, and to get a feel for\n",
      "writing code in that language.\n",
      "****************************************************************************************************\n",
      " is often used to introduce programming beginners to the syntax and structure of a programming\n",
      "language. The phrase \"hello world\" is a nod to the practice of system programmers who would often\n",
      "use a simple message like \"hello world\" to test new hardware or software and verify that a\n",
      "language's compiler, interpreter, or runtime loads correctly.   So, when you write the \"Hello World\"\n",
      "program, you are essentially verifying that you set up your programming environment correctly and\n",
      "the basic functionality of the language's compiler is working as expected.   The structure of a\n",
      "\"Hello World\" program varies depending on the programming language. Generally speaking it looks\n",
      "something like this: ```<language_statement> ``` For example, this is what it would look like in\n",
      "Python: ```python print(\"Hello, World!\") ```  In JavaScript: ```js console.log(\"Hello World!\"); ```\n",
      "In a Shell Script, it may look like this: ```bash\n",
      "****************************************************************************************************\n"
     ]
    }
   ],
   "source": [
    "prompt = \"Hello world is a program that\"\n",
    "\n",
    "response = co.generate(model='command', prompt=prompt, max_tokens=200, temperature=0.5, num_generations=5)\n",
    "for i in range(5):\n",
    "    print(tr.fill(response.generations[i].text, width=100))\n",
    "    print(\"*\"*100)"
   ]
  },
  {
   "cell_type": "code",
   "execution_count": 4,
   "id": "e658fa29-b4ae-47a1-baf0-5f2588fada19",
   "metadata": {},
   "outputs": [
    {
     "name": "stdout",
     "output_type": "stream",
     "text": [
      " Coding can be intimidating, but it doesn't have to be. The best way to learn almost anything is to\n",
      "start with the basics, and in the world of coding, that means Hello, World! This simple program has\n",
      "taught eager programmers since the 1970s. In this post, we'll explain what Hello, World! is, where\n",
      "it came from, and why it remains the starting point for anyone who wants to write code. We'll also\n",
      "show you how to create this classic bit of code across multiple programming languages so you can\n",
      "start your coding journey the right way.   So, let's delve into the world of coding and the history\n",
      "of Hello, World!\n"
     ]
    }
   ],
   "source": [
    "model=\"command\"\n",
    "prompt=\"\"\"\n",
    "Blog Title: Best Activities in Toronto\n",
    "First Paragraph: Looking for fun things to do in Toronto? When it comes to exploring Canada's\n",
    "largest city, there's an ever-evolving set of activities to choose from. Whether you're looking to\n",
    "visit a local museum or sample the city's varied cuisine, there is plenty to fill any itinerary. In\n",
    "this blog post, I'll share some of my favorite recommendations\n",
    "--\n",
    "Blog Title: Mastering Dynamic Programming\n",
    "First Paragraph: In this piece, we'll help you understand the fundamentals of dynamic programming,\n",
    "and when to apply this optimization technique. We'll break down bottom-up and top-down approaches to\n",
    "solve dynamic programming problems.\n",
    "--\n",
    "Blog Title: Learning to Code with Hello, World!\n",
    "First Paragraph:\n",
    "\"\"\"\n",
    "\n",
    "response = co.generate(prompt=prompt, model=model, max_tokens=200, temperature=0.5)\n",
    "print(tr.fill(response.generations[0], width=100))"
   ]
  },
  {
   "cell_type": "code",
   "execution_count": 5,
   "id": "23e64755-395f-4b89-8369-e8d126945bc7",
   "metadata": {},
   "outputs": [],
   "source": [
    "def generate_text(base_prompt, current_prompt):\n",
    "    \"\"\"\n",
    "  Generate text given a prompt\n",
    "  Arguments:\n",
    "    base_prompt(str): the base prompt containing the examples\n",
    "    current_prompt(str): the new topic to generate\n",
    "  Returns:\n",
    "    generation(str): the newly generated output text\n",
    "  \"\"\"\n",
    "    response = co.generate(model=model, \n",
    "                           prompt=base_prompt+current_prompt, \n",
    "                           max_tokens=200, \n",
    "                           temperature=0.2,\n",
    "                           stop_sequences=[\"--\"])\n",
    "    generation = response.generations[0].text\n",
    "    return generation"
   ]
  },
  {
   "cell_type": "code",
   "execution_count": 6,
   "id": "3b3d2f37-3b66-4848-8086-3dd8a9f31115",
   "metadata": {},
   "outputs": [],
   "source": [
    "base_prompt = \"\"\"\n",
    "Write the first paragraph of a blog post given a blog title.\n",
    "--\n",
    "Blog Title: Best Activities in Toronto\n",
    "First Paragraph: Looking for fun things to do in Toronto? When it comes to exploring Canada's\n",
    "largest city, there's an ever-evolving set of activities to choose from. Whether you're looking to\n",
    "visit a local museum or sample the city's varied cuisine, there is plenty to fill any itinerary. In\n",
    "this blog post, I'll share some of my favorite recommendations\n",
    "--\n",
    "Blog Title: Mastering Dynamic Programming\n",
    "First Paragraph: In this piece, we'll help you understand the fundamentals of dynamic programming,\n",
    "and when to apply this optimization technique. We'll break down bottom-up and top-down approaches to\n",
    "solve dynamic programming problems.\n",
    "--\n",
    "Blog Title:\"\"\""
   ]
  },
  {
   "cell_type": "code",
   "execution_count": 7,
   "id": "e447d438-a5eb-49c1-8ab8-47006764e4b4",
   "metadata": {},
   "outputs": [],
   "source": [
    "topics =[\"How to Grow in Your Career\",\n",
    "          \"The Habits of Great Software Developers\",\n",
    "          \"Ideas for a Relaxing Weekend\"]"
   ]
  },
  {
   "cell_type": "code",
   "execution_count": 8,
   "id": "57e92028-cd2a-4288-bdce-45699a1053b1",
   "metadata": {},
   "outputs": [],
   "source": [
    "paragraphs=[]\n",
    "for topic in topics:\n",
    "    curr_prompt = topic + \"\\n\" + \"First paragraph:\"\n",
    "    para = generate_text(base_prompt, curr_prompt)\n",
    "    paragraphs.append(para)"
   ]
  },
  {
   "cell_type": "code",
   "execution_count": 9,
   "id": "919c165b-1b43-43fa-9b18-b17f04d855ef",
   "metadata": {
    "scrolled": true
   },
   "outputs": [
    {
     "name": "stdout",
     "output_type": "stream",
     "text": [
      "Topic : How to Grow in Your Career\n",
      "First Paragraph :  Figuring out how to grow in your career can be a daunting task. Navigating the professional\n",
      "world requires foresight, planning, and persistence. In this blog post, we will discuss various\n",
      "strategies you can employ to maximize your potential and become an expert in your field. Whether\n",
      "it's investing in learning new skills, building a professional network, or taking on new\n",
      "challenges, you'll discover practical steps to jumpstart your career growth. So, let's get\n",
      "started!\n",
      "----------------------------------------------------------------------------------------------------\n",
      "Topic : The Habits of Great Software Developers\n",
      "First Paragraph :  Successful software development requires more than just coding skills. It takes a particular\n",
      "mindset and a set of habits to achieve greatness in this field. In this blog, we'll explore some of\n",
      "the critical habits that great software developers exhibit and the mindset they possess. Whether\n",
      "it's meticulousness, an inclination for constant learning, or the ability to iterate, there are a\n",
      "variety of practices that help programmers excel in the field. We'll delve into these habits\n",
      "and provide insight on how aspiring developers can incorporate them into their own workflows. \n",
      "----------------------------------------------------------------------------------------------------\n",
      "Topic : Ideas for a Relaxing Weekend\n",
      "First Paragraph :  Weekends are a chance to relax and unwind after a long week. Here are some ideas for a relaxing weekend, including trying a new hobby like painting or knitting, getting some fresh air with a hike or bike ride, and spending time with loved ones through a game night or special meal. Let's dive into some of these relaxing ideas below! \n",
      "----------------------------------------------------------------------------------------------------\n"
     ]
    }
   ],
   "source": [
    "for topic, para in zip(topics, paragraphs):\n",
    "    print(\"Topic : {}\".format(topic))\n",
    "    print(\"First Paragraph : {}\".format(para))\n",
    "    print(\"-\"*100)"
   ]
  },
  {
   "cell_type": "code",
   "execution_count": 10,
   "id": "4a3a8cd0-b5bd-424b-8e99-274227b6971c",
   "metadata": {},
   "outputs": [
    {
     "name": "stdout",
     "output_type": "stream",
     "text": [
      "Topic : How to Grow in Your Career \n",
      "First Paragraph:  Whether you're just starting your career or you're a seasoned professional, it's no secret that the working world is constantly changing and evolving. Staying on top of your career growth can feel like a never-ending task. If you feel stagnant in your career or want to explore new opportunities, this blog is for you! By reflecting on your professional goals and making strategic moves, you can take control of your career and achieve your aspirations. So, let's explore some practical strategies for growing in your career and thriving in the working world. \n",
      "----------------------------------------------------------------------------------------------------\n",
      "Topic : The Habits of Great Software Developers \n",
      "First Paragraph:  Successful software development requires more than just technical skills. Great software developers exhibit a combination of habits that contribute to consistent and exceptional work. In this blog, we will examine these habits and explore how practitioners can incorporate them into their own approaches to foster better collaboration, productivity, and creativity within the field. \n",
      "----------------------------------------------------------------------------------------------------\n",
      "Topic : Ideas for a Relaxing Weekend \n",
      "First Paragraph:  Weekends are a time to relax and recharge. They are also a time to enjoy fun activities and spend time with friends and family. If you're looking for ideas on how to spend your weekends, look no further. This blog post will provide you with ideas that will help you have a relaxing and enjoyable weekend. From baking a new dessert to trying out a new restaurant, there are plenty of ways to relax, recharge, and have fun. \n",
      "----------------------------------------------------------------------------------------------------\n"
     ]
    }
   ],
   "source": [
    "result = [\"Topic : {} \\nFirst Paragraph: {}\\n{}\".format(topic, generate_text(base_prompt, topic + \"\\n\" + \"First paragraph:\"), \"-\"*100) for topic in topics]\n",
    "for i in range(len(result)) : print(result[i])"
   ]
  },
  {
   "cell_type": "code",
   "execution_count": 12,
   "id": "c5012c24-cde9-482f-9f7e-4386dfc38456",
   "metadata": {},
   "outputs": [
    {
     "name": "stdout",
     "output_type": "stream",
     "text": [
      "Topic : How to Grow in Your Career\n",
      "First Paragraph :  Regardless of your industry, career growth is a prominent concern for all professionals. \n",
      "\n",
      "Throughout our professional lives, it is essential to reflect, adapt, and evolve with the changing\n",
      "landscape of our respective fields. \n",
      "\n",
      "This blog post will discuss various strategies you can employ to facilitate growth and\n",
      "challenge in your career. \n",
      "----------------------------------------------------------------------------------------------------\n",
      "Topic : The Habits of Great Software Developers\n",
      "First Paragraph :  Whether you're an aspiring developer or a veteran in the field, honing your craft is a lifelong pursuit. In this blog, we'll explore the daily habits and practices that set great software developers apart. From relentless learning and debugging techniques to clean coding and testing best practices, we'll delve into the tools and techniques that can help you elevate your skills and excel in the exciting world of software development. Are you ready to level up your coding abilities? Let's get started!\n",
      "----------------------------------------------------------------------------------------------------\n",
      "Topic : Ideas for a Relaxing Weekend\n",
      "First Paragraph :  Weekends are a chance to relax and unwind after a long week. Here are some ideas for a relaxing weekend, including tried-and-true methods for de-stressing and new ways to unwind. Whether you're looking for a quiet day in or planning a fun adventure, these ideas will help you have a peaceful and restorative weekend.\n",
      "----------------------------------------------------------------------------------------------------\n"
     ]
    }
   ],
   "source": [
    "for topic in topics:\n",
    "    curr_prompt = topic + \"\\n\" + \"First paragraph:\"\n",
    "    para = generate_text(base_prompt, curr_prompt)\n",
    "    print(\"Topic : {}\".format(topic))\n",
    "    print(\"First Paragraph : {}\".format(para))\n",
    "    print(\"-\"*100)"
   ]
  },
  {
   "cell_type": "code",
   "execution_count": 13,
   "id": "8b62d53f-01bd-459c-81f2-79c235e45bb0",
   "metadata": {},
   "outputs": [],
   "source": [
    "from cohere.responses.classify import Example\n",
    "examples=[\n",
    "    Example(\"I’m so proud of you\", \"positive\"), \n",
    "    Example(\"What a great time to be alive\", \"positive\"), \n",
    "    Example(\"That’s awesome work\", \"positive\"), \n",
    "    Example(\"The service was amazing\", \"positive\"), \n",
    "    Example(\"I love my family\", \"positive\"), \n",
    "    Example(\"They don't care about me\", \"negative\"), \n",
    "    Example(\"I hate this place\", \"negative\"), \n",
    "    Example(\"The most ridiculous thing I've ever heard\", \"negative\"), \n",
    "    Example(\"I am really frustrated\", \"negative\"), \n",
    "    Example(\"This is so unfair\", \"negative\"),\n",
    "    Example(\"This made me think\", \"neutral\"), \n",
    "    Example(\"The good old days\", \"neutral\"), \n",
    "    Example(\"What's the difference\", \"neutral\"), \n",
    "    Example(\"You can't ignore this\", \"neutral\"), \n",
    "    Example(\"That's how I see it\", \"neutral\") \n",
    "]\n",
    "inputs=[\"Hello, world! What a beautiful day\",\n",
    "        \"It was a great time with great people\",\n",
    "        \"Great place to work\",\n",
    "        \"That was a wonderful evening\",\n",
    "        \"Maybe this is why\",\n",
    "        \"Let's start again\",\n",
    "        \"That's how I see it\",\n",
    "        \"These are all facts\",\n",
    "        \"This is the worst thing\",\n",
    "        \"I cannot stand this any longer\",\n",
    "        \"This is really annoying\",\n",
    "        \"I am just plain fed up\"\n",
    "]"
   ]
  },
  {
   "cell_type": "code",
   "execution_count": 14,
   "id": "98cb6f13-ff2b-4b6c-9d0b-689f68af0cbd",
   "metadata": {},
   "outputs": [],
   "source": [
    "def classify_text(inputs, examples):\n",
    "    response = co.classify(model='embed-english-v2.0', \n",
    "                           inputs=inputs,\n",
    "                           examples=examples)\n",
    "    return response.classifications\n",
    "                           "
   ]
  },
  {
   "cell_type": "code",
   "execution_count": 15,
   "id": "164627b3-e30d-4b14-8094-41b416ea89e7",
   "metadata": {},
   "outputs": [
    {
     "name": "stdout",
     "output_type": "stream",
     "text": [
      "Input : Hello, world! What a beautiful day\n",
      "Prediction : positive\n",
      "Confidence : 0.84\n",
      "----------------------------------------------------------------------------------------------------\n",
      "Input : It was a great time with great people\n",
      "Prediction : positive\n",
      "Confidence : 0.99\n",
      "----------------------------------------------------------------------------------------------------\n",
      "Input : Great place to work\n",
      "Prediction : positive\n",
      "Confidence : 0.91\n",
      "----------------------------------------------------------------------------------------------------\n",
      "Input : That was a wonderful evening\n",
      "Prediction : positive\n",
      "Confidence : 0.96\n",
      "----------------------------------------------------------------------------------------------------\n",
      "Input : Maybe this is why\n",
      "Prediction : neutral\n",
      "Confidence : 0.70\n",
      "----------------------------------------------------------------------------------------------------\n",
      "Input : Let's start again\n",
      "Prediction : neutral\n",
      "Confidence : 0.83\n",
      "----------------------------------------------------------------------------------------------------\n",
      "Input : That's how I see it\n",
      "Prediction : neutral\n",
      "Confidence : 1.00\n",
      "----------------------------------------------------------------------------------------------------\n",
      "Input : These are all facts\n",
      "Prediction : neutral\n",
      "Confidence : 0.78\n",
      "----------------------------------------------------------------------------------------------------\n",
      "Input : This is the worst thing\n",
      "Prediction : negative\n",
      "Confidence : 0.93\n",
      "----------------------------------------------------------------------------------------------------\n",
      "Input : I cannot stand this any longer\n",
      "Prediction : negative\n",
      "Confidence : 0.93\n",
      "----------------------------------------------------------------------------------------------------\n",
      "Input : This is really annoying\n",
      "Prediction : negative\n",
      "Confidence : 0.99\n",
      "----------------------------------------------------------------------------------------------------\n",
      "Input : I am just plain fed up\n",
      "Prediction : negative\n",
      "Confidence : 1.00\n",
      "----------------------------------------------------------------------------------------------------\n"
     ]
    }
   ],
   "source": [
    "predictions = classify_text(inputs, examples)\n",
    "classes = [\"positive\",\"negative\",\"neutral\"]\n",
    "for input, prediction in zip(inputs, predictions):\n",
    "    class_prediction = prediction.predictions[0]\n",
    "    class_index = classes.index(class_prediction)\n",
    "    class_confidence = prediction.confidences[0]\n",
    "    \n",
    "    print(f\"Input : {input}\" )\n",
    "    print(f\"Prediction : {class_prediction}\" )\n",
    "    print(f\"Confidence : {class_confidence:.2f}\")\n",
    "    print(\"-\"*100)"
   ]
  },
  {
   "cell_type": "code",
   "execution_count": 16,
   "id": "dcf19497-bf6d-4e58-bd85-d2c0eb638f00",
   "metadata": {},
   "outputs": [
    {
     "data": {
      "text/plain": [
       "{'negative': LabelPrediction(confidence=0.028787747),\n",
       " 'neutral': LabelPrediction(confidence=0.1355756),\n",
       " 'positive': LabelPrediction(confidence=0.8356367)}"
      ]
     },
     "execution_count": 16,
     "metadata": {},
     "output_type": "execute_result"
    }
   ],
   "source": [
    "predictions[0].labels"
   ]
  },
  {
   "cell_type": "code",
   "execution_count": null,
   "id": "93094dc9-91f9-4bb2-9945-c8a79edf5b48",
   "metadata": {},
   "outputs": [],
   "source": []
  }
 ],
 "metadata": {
  "kernelspec": {
   "display_name": "Python 3 (ipykernel)",
   "language": "python",
   "name": "python3"
  },
  "language_info": {
   "codemirror_mode": {
    "name": "ipython",
    "version": 3
   },
   "file_extension": ".py",
   "mimetype": "text/x-python",
   "name": "python",
   "nbconvert_exporter": "python",
   "pygments_lexer": "ipython3",
   "version": "3.10.13"
  }
 },
 "nbformat": 4,
 "nbformat_minor": 5
}
