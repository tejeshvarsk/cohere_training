{
 "cells": [
  {
   "cell_type": "code",
   "execution_count": 50,
   "id": "760cfb53-2a29-4189-ad9b-40cacaebc35d",
   "metadata": {},
   "outputs": [
    {
     "data": {
      "text/plain": [
       "True"
      ]
     },
     "execution_count": 50,
     "metadata": {},
     "output_type": "execute_result"
    }
   ],
   "source": [
    "from langchain.embeddings.cohere import CohereEmbeddings\n",
    "from langchain.llms import Cohere\n",
    "from langchain.prompts import PromptTemplate\n",
    "from langchain.text_splitter import RecursiveCharacterTextSplitter\n",
    "from langchain.chains.question_answering import load_qa_chain\n",
    "from langchain.chains import RetrievalQA\n",
    "from langchain.vectorstores import Qdrant\n",
    "from langchain.document_loaders import TextLoader\n",
    "\n",
    "import textwrap as tr\n",
    "import random\n",
    "import dotenv\n",
    "import os\n",
    "\n",
    "dotenv.load_dotenv(\".env\")"
   ]
  },
  {
   "cell_type": "code",
   "execution_count": 51,
   "id": "53caf9e8-283f-4bfc-b04d-f962f563f2bd",
   "metadata": {},
   "outputs": [
    {
     "name": "stdout",
     "output_type": "stream",
     "text": [
      "3653\n"
     ]
    }
   ],
   "source": [
    "from langchain.retrievers import WikipediaRetriever\n",
    "wiki_retriever = WikipediaRetriever()\n",
    "wiki_docs = wiki_retriever.get_relevant_documents(\"Cohere\" )\n",
    "raw_text=wiki_docs[0].page_content\n",
    "raw_text=raw_text.split(\"\\n\\n\")[:3]\n",
    "raw_text=\"\".join(raw_text)\n",
    "\n",
    "print(len(raw_text))\n",
    "splitter = RecursiveCharacterTextSplitter(chunk_size = 100,\n",
    "    chunk_overlap  = 0,\n",
    "    length_function = len,)\n",
    "text_list = splitter.split_text(raw_text)"
   ]
  },
  {
   "cell_type": "code",
   "execution_count": 52,
   "id": "a79d06fa-2bd1-488d-b40b-0776fa98f0d6",
   "metadata": {},
   "outputs": [],
   "source": [
    "queries = [\"who published paper 'Attention is All You Need'\",\n",
    "           \"When did cohere launch Cohere For AI\",\n",
    "          \"When did Cohere released a multilingual model for understanding text \",\n",
    "          \"When did oracle announced partnership with cohere\",\n",
    "           \"How many tech companies agree to voluntary White House measures on testing, reporting, and research on the risks of AI\",\n",
    "          ]"
   ]
  },
  {
   "cell_type": "code",
   "execution_count": 53,
   "id": "f9e46052-9cd4-4af4-a2b1-15db63f4a9f8",
   "metadata": {},
   "outputs": [],
   "source": [
    "embeddings = CohereEmbeddings(model='multilingual-22-12')\n",
    "\n",
    "db = Qdrant.from_texts(text_list, embeddings, location=\":memory:\", collection_name=\"my_documents\", distance_func=\"Dot\")"
   ]
  },
  {
   "cell_type": "code",
   "execution_count": null,
   "id": "71578856-0506-4195-8e51-8ef88350a204",
   "metadata": {},
   "outputs": [],
   "source": [
    "answers = []\n",
    "\n",
    "for query in queries:\n",
    "    docs = db.similarity_search(query)\n",
    "    answers.append(docs[0].page_content)"
   ]
  },
  {
   "cell_type": "code",
   "execution_count": 49,
   "id": "b74a0e6d-ad1a-44c9-97be-87a887d176d6",
   "metadata": {},
   "outputs": [
    {
     "data": {
      "text/plain": [
       "['called \"Attention is All You Need,\" which introduced the transformer machine learning architecture,',\n",
       " 'the development and deployment of their products.In June 2022, Cohere launched Cohere For AI, a',\n",
       " 'December 2022, Cohere released a multilingual model for understanding text that would work with',\n",
       " '2023, Oracle announced a partnership with Cohere to provide generative AI services to help',\n",
       " 'to agree to voluntary White House measures on testing, reporting, and research on the risks of AI.']"
      ]
     },
     "execution_count": 49,
     "metadata": {},
     "output_type": "execute_result"
    }
   ],
   "source": [
    "answers"
   ]
  },
  {
   "cell_type": "code",
   "execution_count": 55,
   "id": "4f723796-8153-40ca-b204-9d323ac8f4f1",
   "metadata": {},
   "outputs": [
    {
     "name": "stdout",
     "output_type": "stream",
     "text": [
      "Cohere is a Canadian multinational technology company focused on artificial intelligence for the enterprise, specializing in large language models. Cohere was founded in 2019 by Aidan Gomez, Ivan Zhang, and Nick Frosst, and is headquartered in Toronto and San Francisco, with offices in Palo Alto and London.\n",
      "== History ==\n",
      "In 2017, a team of researchers at Google Brain, which included Aidan Gomez, published a paper called \"Attention is All You Need,\" which introduced the transformer machine learning architecture, setting state-of-the-art performance on a variety of natural language processing tasks. In 2019, Gomez and Nick Frosst, another researcher at Google Brain, founded Cohere along with Ivan Zhang, with whom Gomez had done research at FOR.ai. All of the co-founders attended University of Toronto.Gomez has been serving as the company's CEO since its founding. On December 13, 2022, it was announced that Cohere had appointed former YouTube CFO Martin Kon as their new president and chief operating officer.In November 2021, Google Cloud announced that they would help power Cohere's platform using their robust infrastructure, and Cloud's TPUs would be used by Cohere for the development and deployment of their products.In June 2022, Cohere launched Cohere For AI, a nonprofit research lab and community dedicated to contributing open-source, fundamental machine learning research. It is led by Sara Hooker, a former research scientist at Google Brain.In December 2022, Cohere released a multilingual model for understanding text that would work with over 100 languages, to help users search for documents by meaning instead of with keywords. This type of process was not previously widely available in languages other than English.On June 13, 2023, Oracle announced a partnership with Cohere to provide generative AI services to help organizations automate end-to-end business processes. As a result, Cohere's technology is integrated into Oracle's business applications, including Oracle Fusion Cloud, Oracle NetSuite, and Oracle industry-specific applications. On July 18, 2023, McKinsey announced a collaboration with Cohere, to help organizations integrate generative AI into their operations. In 2023, Cohere collaborated with software company LivePerson to offer customized large language models for businesses.On September 12, 2023, it was announced that Cohere had become one of 15 tech companies to agree to voluntary White House measures on testing, reporting, and research on the risks of AI. On September 27, 2023, it was announced that Cohere had also signed Canada's voluntary code of conduct for AI, to promote the responsible development and management of advanced generative AI systems.\n",
      "== Products ==\n",
      "Considered an alternative to OpenAI, Cohere is focused on generative AI for the enterprise, building technology that businesses can use to deploy chatbots, search engines, copywriting, summarization, and other AI-driven products. Cohere specializes in large language models: AI trained to digest text from an enterprises' internal data or publicly available sources like the internet to understand how to process and respond to prompts with increasing sophistication.The Cohere platform is available through API as a managed service, through platforms such as Amazon SageMaker and Google's Vertex AI. It can be used for tasks such as writing copy, moderating content, classifying data, and extracting information. It is cloud agnostic and not tied to a particular cloud service.Cohere's generative AI technology is embedded into several Oracle products, and its chat capabilities are embedded into Salesforce products.\n"
     ]
    }
   ],
   "source": [
    "print(raw_text)"
   ]
  },
  {
   "cell_type": "code",
   "execution_count": 56,
   "id": "ce6782d3-0f87-406e-803f-f5769f41bec0",
   "metadata": {},
   "outputs": [
    {
     "data": {
      "text/plain": [
       "'Cohere is a Canadian multinational technology company focused on artificial intelligence for the enterprise, specializing in large language models. Cohere was founded in 2019 by Aidan Gomez, Ivan Zhang, and Nick Frosst, and is headquartered in Toronto and San Francisco, with offices in Palo Alto and London.\\n\\n\\n== History ==\\nIn 2017, a team of researchers at Google Brain, which included Aidan Gomez, published a paper called \"Attention is All You Need,\" which introduced the transformer machine learning architecture, setting state-of-the-art performance on a variety of natural language processing tasks. In 2019, Gomez and Nick Frosst, another researcher at Google Brain, founded Cohere along with Ivan Zhang, with whom Gomez had done research at FOR.ai. All of the co-founders attended University of Toronto.Gomez has been serving as the company\\'s CEO since its founding. On December 13, 2022, it was announced that Cohere had appointed former YouTube CFO Martin Kon as their new president and chief operating officer.In November 2021, Google Cloud announced that they would help power Cohere\\'s platform using their robust infrastructure, and Cloud\\'s TPUs would be used by Cohere for the development and deployment of their products.In June 2022, Cohere launched Cohere For AI, a nonprofit research lab and community dedicated to contributing open-source, fundamental machine learning research. It is led by Sara Hooker, a former research scientist at Google Brain.In December 2022, Cohere released a multilingual model for understanding text that would work with over 100 languages, to help users search for documents by meaning instead of with keywords. This type of process was not previously widely available in languages other than English.On June 13, 2023, Oracle announced a partnership with Cohere to provide generative AI services to help organizations automate end-to-end business processes. As a result, Cohere\\'s technology is integrated into Oracle\\'s business applications, including Oracle Fusion Cloud, Oracle NetSuite, and Oracle industry-specific applications. On July 18, 2023, McKinsey announced a collaboration with Cohere, to help organizations integrate generative AI into their operations. In 2023, Cohere collaborated with software company LivePerson to offer customized large language models for businesses.On September 12, 2023, it was announced that Cohere had become one of 15 tech companies to agree to voluntary White House measures on testing, reporting, and research on the risks of AI. On September 27, 2023, it was announced that Cohere had also signed Canada\\'s voluntary code of conduct for AI, to promote the responsible development and management of advanced generative AI systems.\\n\\n\\n== Products ==\\nConsidered an alternative to OpenAI, Cohere is focused on generative AI for the enterprise, building technology that businesses can use to deploy chatbots, search engines, copywriting, summarization, and other AI-driven products. Cohere specializes in large language models: AI trained to digest text from an enterprises\\' internal data or publicly available sources like the internet to understand how to process and respond to prompts with increasing sophistication.The Cohere platform is available through API as a managed service, through platforms such as Amazon SageMaker and Google\\'s Vertex AI. It can be used for tasks such as writing copy, moderating content, classifying data, and extracting information. It is cloud agnostic and not tied to a particular cloud service.Cohere\\'s generative AI technology is embedded into several Oracle products, and its chat capabilities are embedded into Salesforce products.\\n\\n\\n== Funding ==\\nOn September 7, 2021, Cohere announced that they had raised $40 million in Series A funding led by Index Ventures; Index Ventures partner Mike Volpi also joined Cohere\\'s board. The round also included Radical Ventures, Section 32, and AI-experts Geoffrey Hinton, Fei-Fei Li, Pieter Abbeel, and Raquel Urtasun.In February 2022,'"
      ]
     },
     "execution_count": 56,
     "metadata": {},
     "output_type": "execute_result"
    }
   ],
   "source": [
    "wiki_docs[0].page_content"
   ]
  },
  {
   "cell_type": "code",
   "execution_count": null,
   "id": "81c1bae3-7f30-456d-a8a9-8d7350fa57a3",
   "metadata": {},
   "outputs": [],
   "source": []
  }
 ],
 "metadata": {
  "kernelspec": {
   "display_name": "Python 3 (ipykernel)",
   "language": "python",
   "name": "python3"
  },
  "language_info": {
   "codemirror_mode": {
    "name": "ipython",
    "version": 3
   },
   "file_extension": ".py",
   "mimetype": "text/x-python",
   "name": "python",
   "nbconvert_exporter": "python",
   "pygments_lexer": "ipython3",
   "version": "3.10.13"
  }
 },
 "nbformat": 4,
 "nbformat_minor": 5
}
