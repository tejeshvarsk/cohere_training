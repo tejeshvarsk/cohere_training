{
 "cells": [
  {
   "cell_type": "code",
   "execution_count": 33,
   "id": "06dbd237-9fa7-4c61-833d-b10d27981458",
   "metadata": {},
   "outputs": [],
   "source": [
    "import cohere\n",
    "import time\n",
    "import pandas as pd\n",
    "api_key='jYofvjhVq0o1AqvuyZpRCOqhDj3vITceimhfLjGO'\n",
    "co = cohere.Client(api_key)\n",
    "pd.set_option('max_colwidth', None)"
   ]
  },
  {
   "cell_type": "code",
   "execution_count": 34,
   "id": "8a8d74b4-f51f-4602-95b2-0e227f5287cc",
   "metadata": {},
   "outputs": [
    {
     "name": "stdout",
     "output_type": "stream",
     "text": [
      "\"The killer whale or orca (Orcinus orca) is a toothed whale belonging to the oceanic dolphin family, of which it is the largest member\"\n",
      "In summary: \"The killer whale or orca is the largest type of dolphin\"\n",
      "---\n",
      "\"It is recognizable by its black-and-white patterned body\"\n",
      "In summary:\"Its body has a black and white pattern\"\n",
      "---\n",
      "\"Killer whales have a diverse diet, although individual populations often specialize in particular types of prey\"\n",
      "In summary:\"\n"
     ]
    }
   ],
   "source": [
    "prompt = '''\"The killer whale or orca (Orcinus orca) is a toothed whale belonging to the oceanic dolphin family, of which it is the largest member\"\n",
    "In summary: \"The killer whale or orca is the largest type of dolphin\"\n",
    "---\n",
    "\"It is recognizable by its black-and-white patterned body\"\n",
    "In summary:\"Its body has a black and white pattern\"\n",
    "---\n",
    "\"Killer whales have a diverse diet, although individual populations often specialize in particular types of prey\"\n",
    "In summary:\"'''\n",
    "\n",
    "print(prompt)"
   ]
  },
  {
   "cell_type": "code",
   "execution_count": 35,
   "id": "65a010d2-b31e-4192-8065-a75ff6246656",
   "metadata": {},
   "outputs": [],
   "source": [
    "num_generations=5\n",
    "predictions = co.generate(model='command', \n",
    "                          prompt=prompt, \n",
    "                          temperature=0.7, \n",
    "                          return_likelihoods='GENERATION',\n",
    "                          max_tokens=70,\n",
    "                          stop_sequences=['\"'],\n",
    "                          k=0,\n",
    "                          p=0.7,                          \n",
    "                          num_generations=num_generations)"
   ]
  },
  {
   "cell_type": "code",
   "execution_count": 36,
   "id": "6215df3a-76b4-46dd-a14d-0a8b7a4f5684",
   "metadata": {},
   "outputs": [],
   "source": [
    "generations = []\n",
    "likelihoods = []\n",
    "for generation in predictions.generations:\n",
    "    generations.append(generation.text)\n",
    "    likelihoods_sum = 0\n",
    "    for token in generation.token_likelihoods:\n",
    "        likelihoods_sum += token.likelihood\n",
    "    likelihoods.append(likelihoods_sum)\n",
    "    "
   ]
  },
  {
   "cell_type": "code",
   "execution_count": 39,
   "id": "e3f5e2b3-e19a-4043-83b0-247ef8191a72",
   "metadata": {},
   "outputs": [
    {
     "data": {
      "text/html": [
       "<div>\n",
       "<style scoped>\n",
       "    .dataframe tbody tr th:only-of-type {\n",
       "        vertical-align: middle;\n",
       "    }\n",
       "\n",
       "    .dataframe tbody tr th {\n",
       "        vertical-align: top;\n",
       "    }\n",
       "\n",
       "    .dataframe thead th {\n",
       "        text-align: right;\n",
       "    }\n",
       "</style>\n",
       "<table border=\"1\" class=\"dataframe\">\n",
       "  <thead>\n",
       "    <tr style=\"text-align: right;\">\n",
       "      <th></th>\n",
       "      <th>generation</th>\n",
       "      <th>likelihood</th>\n",
       "    </tr>\n",
       "  </thead>\n",
       "  <tbody>\n",
       "    <tr>\n",
       "      <th>0</th>\n",
       "      <td>Killer whales have a diverse diet, and the types of prey they eat depend on the individual population.</td>\n",
       "      <td>-6.911528</td>\n",
       "    </tr>\n",
       "    <tr>\n",
       "      <th>1</th>\n",
       "      <td>Killer whales have a diverse diet, with different populations specializing in specific types of prey.</td>\n",
       "      <td>-3.698442</td>\n",
       "    </tr>\n",
       "    <tr>\n",
       "      <th>2</th>\n",
       "      <td>The diet of the killer whale tends to vary, with different populations focusing on specific types of prey.</td>\n",
       "      <td>-3.135970</td>\n",
       "    </tr>\n",
       "    <tr>\n",
       "      <th>3</th>\n",
       "      <td>Killer whales have a diverse diet, with different populations specializing in specific types of prey.</td>\n",
       "      <td>-3.698442</td>\n",
       "    </tr>\n",
       "    <tr>\n",
       "      <th>4</th>\n",
       "      <td>Killer whales eat different types of prey, but individual whale populations often stick to a specific diet.</td>\n",
       "      <td>-5.310446</td>\n",
       "    </tr>\n",
       "  </tbody>\n",
       "</table>\n",
       "</div>"
      ],
      "text/plain": [
       "                                                                                                      generation  likelihood\n",
       "0        Killer whales have a diverse diet, and the types of prey they eat depend on the individual population.    -6.911528\n",
       "1         Killer whales have a diverse diet, with different populations specializing in specific types of prey.    -3.698442\n",
       "2    The diet of the killer whale tends to vary, with different populations focusing on specific types of prey.    -3.135970\n",
       "3         Killer whales have a diverse diet, with different populations specializing in specific types of prey.    -3.698442\n",
       "4   Killer whales eat different types of prey, but individual whale populations often stick to a specific diet.    -5.310446"
      ]
     },
     "execution_count": 39,
     "metadata": {},
     "output_type": "execute_result"
    }
   ],
   "source": [
    "df = pd.DataFrame({'generation' : generations, 'likelihood' : likelihoods})\n",
    "df"
   ]
  },
  {
   "cell_type": "code",
   "execution_count": 40,
   "id": "c7509589-e3fe-42aa-a08b-ff9a9f3139fc",
   "metadata": {},
   "outputs": [
    {
     "data": {
      "text/html": [
       "<div>\n",
       "<style scoped>\n",
       "    .dataframe tbody tr th:only-of-type {\n",
       "        vertical-align: middle;\n",
       "    }\n",
       "\n",
       "    .dataframe tbody tr th {\n",
       "        vertical-align: top;\n",
       "    }\n",
       "\n",
       "    .dataframe thead th {\n",
       "        text-align: right;\n",
       "    }\n",
       "</style>\n",
       "<table border=\"1\" class=\"dataframe\">\n",
       "  <thead>\n",
       "    <tr style=\"text-align: right;\">\n",
       "      <th></th>\n",
       "      <th>generation</th>\n",
       "      <th>likelihood</th>\n",
       "    </tr>\n",
       "  </thead>\n",
       "  <tbody>\n",
       "    <tr>\n",
       "      <th>0</th>\n",
       "      <td>Killer whales have a diverse diet, and the types of prey they eat depend on the individual population.</td>\n",
       "      <td>-6.911528</td>\n",
       "    </tr>\n",
       "    <tr>\n",
       "      <th>1</th>\n",
       "      <td>Killer whales have a diverse diet, with different populations specializing in specific types of prey.</td>\n",
       "      <td>-3.698442</td>\n",
       "    </tr>\n",
       "    <tr>\n",
       "      <th>2</th>\n",
       "      <td>The diet of the killer whale tends to vary, with different populations focusing on specific types of prey.</td>\n",
       "      <td>-3.135970</td>\n",
       "    </tr>\n",
       "    <tr>\n",
       "      <th>4</th>\n",
       "      <td>Killer whales eat different types of prey, but individual whale populations often stick to a specific diet.</td>\n",
       "      <td>-5.310446</td>\n",
       "    </tr>\n",
       "  </tbody>\n",
       "</table>\n",
       "</div>"
      ],
      "text/plain": [
       "                                                                                                      generation  likelihood\n",
       "0        Killer whales have a diverse diet, and the types of prey they eat depend on the individual population.    -6.911528\n",
       "1         Killer whales have a diverse diet, with different populations specializing in specific types of prey.    -3.698442\n",
       "2    The diet of the killer whale tends to vary, with different populations focusing on specific types of prey.    -3.135970\n",
       "4   Killer whales eat different types of prey, but individual whale populations often stick to a specific diet.    -5.310446"
      ]
     },
     "execution_count": 40,
     "metadata": {},
     "output_type": "execute_result"
    }
   ],
   "source": [
    "df = df.drop_duplicates(subset=['generation'])\n",
    "df"
   ]
  },
  {
   "cell_type": "code",
   "execution_count": 43,
   "id": "ebc76a4f-2e9b-4611-9fe7-18c28e7d2dae",
   "metadata": {},
   "outputs": [
    {
     "data": {
      "text/html": [
       "<div>\n",
       "<style scoped>\n",
       "    .dataframe tbody tr th:only-of-type {\n",
       "        vertical-align: middle;\n",
       "    }\n",
       "\n",
       "    .dataframe tbody tr th {\n",
       "        vertical-align: top;\n",
       "    }\n",
       "\n",
       "    .dataframe thead th {\n",
       "        text-align: right;\n",
       "    }\n",
       "</style>\n",
       "<table border=\"1\" class=\"dataframe\">\n",
       "  <thead>\n",
       "    <tr style=\"text-align: right;\">\n",
       "      <th></th>\n",
       "      <th>generation</th>\n",
       "      <th>likelihood</th>\n",
       "    </tr>\n",
       "  </thead>\n",
       "  <tbody>\n",
       "    <tr>\n",
       "      <th>0</th>\n",
       "      <td>The diet of the killer whale tends to vary, with different populations focusing on specific types of prey.</td>\n",
       "      <td>-3.135970</td>\n",
       "    </tr>\n",
       "    <tr>\n",
       "      <th>1</th>\n",
       "      <td>Killer whales have a diverse diet, with different populations specializing in specific types of prey.</td>\n",
       "      <td>-3.698442</td>\n",
       "    </tr>\n",
       "    <tr>\n",
       "      <th>2</th>\n",
       "      <td>Killer whales eat different types of prey, but individual whale populations often stick to a specific diet.</td>\n",
       "      <td>-5.310446</td>\n",
       "    </tr>\n",
       "    <tr>\n",
       "      <th>3</th>\n",
       "      <td>Killer whales have a diverse diet, and the types of prey they eat depend on the individual population.</td>\n",
       "      <td>-6.911528</td>\n",
       "    </tr>\n",
       "  </tbody>\n",
       "</table>\n",
       "</div>"
      ],
      "text/plain": [
       "                                                                                                      generation  likelihood\n",
       "0    The diet of the killer whale tends to vary, with different populations focusing on specific types of prey.    -3.135970\n",
       "1         Killer whales have a diverse diet, with different populations specializing in specific types of prey.    -3.698442\n",
       "2   Killer whales eat different types of prey, but individual whale populations often stick to a specific diet.    -5.310446\n",
       "3        Killer whales have a diverse diet, and the types of prey they eat depend on the individual population.    -6.911528"
      ]
     },
     "execution_count": 43,
     "metadata": {},
     "output_type": "execute_result"
    }
   ],
   "source": [
    "df=df.sort_values('likelihood', ascending=False, ignore_index=True)\n",
    "df"
   ]
  },
  {
   "cell_type": "code",
   "execution_count": 45,
   "id": "90b47c6a-1e88-44ae-8d09-5e1022f9c0e0",
   "metadata": {},
   "outputs": [
    {
     "data": {
      "text/plain": [
       "[cohere.Generation {\n",
       " \tid: 5cb48e42-322f-42a3-892e-e05ae663c433\n",
       " \tprompt: \"The killer whale or orca (Orcinus orca) is a toothed whale belonging to the oceanic dolphin family, of which it is the largest member\"\n",
       " In summary: \"The killer whale or orca is the largest type of dolphin\"\n",
       " ---\n",
       " \"It is recognizable by its black-and-white patterned body\"\n",
       " In summary:\"Its body has a black and white pattern\"\n",
       " ---\n",
       " \"Killer whales have a diverse diet, although individual populations often specialize in particular types of prey\"\n",
       " In summary:\"\n",
       " \ttext:  Killer whales have a diverse diet, and the types of prey they eat depend on the individual population. \n",
       " \tlikelihood: -0.32912037\n",
       " \tfinish_reason: COMPLETE\n",
       " \ttoken_likelihoods: [TokenLikelihood(token=' Killer', likelihood=-0.6228093), TokenLikelihood(token=' whales', likelihood=-0.0010728749), TokenLikelihood(token=' have', likelihood=-0.44132137), TokenLikelihood(token=' a', likelihood=-0.18875349), TokenLikelihood(token=' diverse', likelihood=-0.096984275), TokenLikelihood(token=' diet', likelihood=-0.00028460534), TokenLikelihood(token=',', likelihood=-1.2468796e-05), TokenLikelihood(token=' and', likelihood=-1.2834673), TokenLikelihood(token=' the', likelihood=-0.05552149), TokenLikelihood(token=' types', likelihood=-0.49771845), TokenLikelihood(token=' of', likelihood=-1.8601542e-06), TokenLikelihood(token=' prey', likelihood=-0.013603622), TokenLikelihood(token=' they', likelihood=-0.6915231), TokenLikelihood(token=' eat', likelihood=-0.9359104), TokenLikelihood(token=' depend', likelihood=-0.05108073), TokenLikelihood(token=' on', likelihood=-1.2622395e-06), TokenLikelihood(token=' the', likelihood=-0.21877635), TokenLikelihood(token=' individual', likelihood=-0.32755613), TokenLikelihood(token=' population', likelihood=-0.5660322), TokenLikelihood(token='.', likelihood=-0.91242534), TokenLikelihood(token=' ', likelihood=-0.006671384)]\n",
       " },\n",
       " cohere.Generation {\n",
       " \tid: fc7fab08-040b-4488-baf5-9b1686c2fce8\n",
       " \tprompt: \"The killer whale or orca (Orcinus orca) is a toothed whale belonging to the oceanic dolphin family, of which it is the largest member\"\n",
       " In summary: \"The killer whale or orca is the largest type of dolphin\"\n",
       " ---\n",
       " \"It is recognizable by its black-and-white patterned body\"\n",
       " In summary:\"Its body has a black and white pattern\"\n",
       " ---\n",
       " \"Killer whales have a diverse diet, although individual populations often specialize in particular types of prey\"\n",
       " In summary:\"\n",
       " \ttext:  Killer whales have a diverse diet, with different populations specializing in specific types of prey. \n",
       " \tlikelihood: -0.20546897\n",
       " \tfinish_reason: COMPLETE\n",
       " \ttoken_likelihoods: [TokenLikelihood(token=' Killer', likelihood=-0.6228093), TokenLikelihood(token=' whales', likelihood=-0.0010728749), TokenLikelihood(token=' have', likelihood=-0.44132137), TokenLikelihood(token=' a', likelihood=-0.18875349), TokenLikelihood(token=' diverse', likelihood=-0.096984275), TokenLikelihood(token=' diet', likelihood=-0.00028460534), TokenLikelihood(token=',', likelihood=-1.2468796e-05), TokenLikelihood(token=' with', likelihood=-0.7055254), TokenLikelihood(token=' different', likelihood=-0.80001795), TokenLikelihood(token=' populations', likelihood=-0.0013583719), TokenLikelihood(token=' specializing', likelihood=-0.5648266), TokenLikelihood(token=' in', likelihood=-9.055464e-07), TokenLikelihood(token=' specific', likelihood=-0.0069986354), TokenLikelihood(token=' types', likelihood=-0.07125599), TokenLikelihood(token=' of', likelihood=-9.055464e-07), TokenLikelihood(token=' prey', likelihood=-0.002568937), TokenLikelihood(token='.', likelihood=-0.013300293), TokenLikelihood(token=' ', likelihood=-0.18134956)]\n",
       " },\n",
       " cohere.Generation {\n",
       " \tid: 36db3af8-0471-42dc-97c4-1f183628b623\n",
       " \tprompt: \"The killer whale or orca (Orcinus orca) is a toothed whale belonging to the oceanic dolphin family, of which it is the largest member\"\n",
       " In summary: \"The killer whale or orca is the largest type of dolphin\"\n",
       " ---\n",
       " \"It is recognizable by its black-and-white patterned body\"\n",
       " In summary:\"Its body has a black and white pattern\"\n",
       " ---\n",
       " \"Killer whales have a diverse diet, although individual populations often specialize in particular types of prey\"\n",
       " In summary:\"\n",
       " \ttext:  The diet of the killer whale tends to vary, with different populations focusing on specific types of prey. \n",
       " \tlikelihood: -0.14933191\n",
       " \tfinish_reason: COMPLETE\n",
       " \ttoken_likelihoods: [TokenLikelihood(token=' The', likelihood=-1.1648396), TokenLikelihood(token=' diet', likelihood=-0.24995238), TokenLikelihood(token=' of', likelihood=-1.3823812e-06), TokenLikelihood(token=' the', likelihood=-0.19286892), TokenLikelihood(token=' killer', likelihood=-0.21268469), TokenLikelihood(token=' whale', likelihood=-0.00712295), TokenLikelihood(token=' tends', likelihood=-0.14945677), TokenLikelihood(token=' to', likelihood=-9.055464e-07), TokenLikelihood(token=' vary', likelihood=-0.051485166), TokenLikelihood(token=',', likelihood=-0.14149034), TokenLikelihood(token=' with', likelihood=-0.003809097), TokenLikelihood(token=' different', likelihood=-0.0002491891), TokenLikelihood(token=' populations', likelihood=-0.00031596568), TokenLikelihood(token=' focusing', likelihood=-0.6990571), TokenLikelihood(token=' on', likelihood=-5.912312e-06), TokenLikelihood(token=' specific', likelihood=-0.00011630989), TokenLikelihood(token=' types', likelihood=-0.0017074768), TokenLikelihood(token=' of', likelihood=-9.055464e-07), TokenLikelihood(token=' prey', likelihood=-0.025504977), TokenLikelihood(token='.', likelihood=-0.0010636855), TokenLikelihood(token=' ', likelihood=-0.23423599)]\n",
       " },\n",
       " cohere.Generation {\n",
       " \tid: 9e96d2b9-f832-45af-8c98-0f4570ddf862\n",
       " \tprompt: \"The killer whale or orca (Orcinus orca) is a toothed whale belonging to the oceanic dolphin family, of which it is the largest member\"\n",
       " In summary: \"The killer whale or orca is the largest type of dolphin\"\n",
       " ---\n",
       " \"It is recognizable by its black-and-white patterned body\"\n",
       " In summary:\"Its body has a black and white pattern\"\n",
       " ---\n",
       " \"Killer whales have a diverse diet, although individual populations often specialize in particular types of prey\"\n",
       " In summary:\"\n",
       " \ttext:  Killer whales have a diverse diet, with different populations specializing in specific types of prey. \n",
       " \tlikelihood: -0.20546897\n",
       " \tfinish_reason: COMPLETE\n",
       " \ttoken_likelihoods: [TokenLikelihood(token=' Killer', likelihood=-0.6228093), TokenLikelihood(token=' whales', likelihood=-0.0010728749), TokenLikelihood(token=' have', likelihood=-0.44132137), TokenLikelihood(token=' a', likelihood=-0.18875349), TokenLikelihood(token=' diverse', likelihood=-0.096984275), TokenLikelihood(token=' diet', likelihood=-0.00028460534), TokenLikelihood(token=',', likelihood=-1.2468796e-05), TokenLikelihood(token=' with', likelihood=-0.7055254), TokenLikelihood(token=' different', likelihood=-0.80001795), TokenLikelihood(token=' populations', likelihood=-0.0013583719), TokenLikelihood(token=' specializing', likelihood=-0.5648266), TokenLikelihood(token=' in', likelihood=-9.055464e-07), TokenLikelihood(token=' specific', likelihood=-0.0069986354), TokenLikelihood(token=' types', likelihood=-0.07125599), TokenLikelihood(token=' of', likelihood=-9.055464e-07), TokenLikelihood(token=' prey', likelihood=-0.002568937), TokenLikelihood(token='.', likelihood=-0.013300293), TokenLikelihood(token=' ', likelihood=-0.18134956)]\n",
       " },\n",
       " cohere.Generation {\n",
       " \tid: 0a84b5b6-e87f-4285-a452-3d44ebdc6fce\n",
       " \tprompt: \"The killer whale or orca (Orcinus orca) is a toothed whale belonging to the oceanic dolphin family, of which it is the largest member\"\n",
       " In summary: \"The killer whale or orca is the largest type of dolphin\"\n",
       " ---\n",
       " \"It is recognizable by its black-and-white patterned body\"\n",
       " In summary:\"Its body has a black and white pattern\"\n",
       " ---\n",
       " \"Killer whales have a diverse diet, although individual populations often specialize in particular types of prey\"\n",
       " In summary:\"\n",
       " \ttext:  Killer whales eat different types of prey, but individual whale populations often stick to a specific diet. \n",
       " \tlikelihood: -0.2655223\n",
       " \tfinish_reason: COMPLETE\n",
       " \ttoken_likelihoods: [TokenLikelihood(token=' Killer', likelihood=-0.6228093), TokenLikelihood(token=' whales', likelihood=-0.0010728749), TokenLikelihood(token=' eat', likelihood=-1.1229717), TokenLikelihood(token=' different', likelihood=-0.06343856), TokenLikelihood(token=' types', likelihood=-0.061038263), TokenLikelihood(token=' of', likelihood=-8.0580685e-06), TokenLikelihood(token=' prey', likelihood=-0.0021717444), TokenLikelihood(token=',', likelihood=-0.008478081), TokenLikelihood(token=' but', likelihood=-2.9996223e-05), TokenLikelihood(token=' individual', likelihood=-0.5048922), TokenLikelihood(token=' whale', likelihood=-1.5042208), TokenLikelihood(token=' populations', likelihood=-0.05713971), TokenLikelihood(token=' often', likelihood=-0.0067954804), TokenLikelihood(token=' stick', likelihood=-0.6607027), TokenLikelihood(token=' to', likelihood=-7.24364e-05), TokenLikelihood(token=' a', likelihood=-0.46168843), TokenLikelihood(token=' specific', likelihood=-0.1866711), TokenLikelihood(token=' diet', likelihood=-0.0011001427), TokenLikelihood(token='.', likelihood=-3.488097e-05), TokenLikelihood(token=' ', likelihood=-0.04510942)]\n",
       " }]"
      ]
     },
     "execution_count": 45,
     "metadata": {},
     "output_type": "execute_result"
    }
   ],
   "source": [
    "predictions.generations"
   ]
  },
  {
   "cell_type": "code",
   "execution_count": null,
   "id": "4654305a-f3d8-47ff-9db3-d10a30e6f8e8",
   "metadata": {},
   "outputs": [],
   "source": []
  }
 ],
 "metadata": {
  "kernelspec": {
   "display_name": "Python 3 (ipykernel)",
   "language": "python",
   "name": "python3"
  },
  "language_info": {
   "codemirror_mode": {
    "name": "ipython",
    "version": 3
   },
   "file_extension": ".py",
   "mimetype": "text/x-python",
   "name": "python",
   "nbconvert_exporter": "python",
   "pygments_lexer": "ipython3",
   "version": "3.10.13"
  }
 },
 "nbformat": 4,
 "nbformat_minor": 5
}
