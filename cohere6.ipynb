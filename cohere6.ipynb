{
 "cells": [
  {
   "cell_type": "code",
   "execution_count": 6,
   "id": "6711b548-ec23-420a-b1c5-0a15201c159d",
   "metadata": {},
   "outputs": [],
   "source": [
    "import cohere\n",
    "co = cohere.Client('jYofvjhVq0o1AqvuyZpRCOqhDj3vITceimhfLjGO')"
   ]
  },
  {
   "cell_type": "code",
   "execution_count": 7,
   "id": "2b88fbaf-7281-49ff-baa1-fae653761732",
   "metadata": {},
   "outputs": [],
   "source": [
    "def generate_text(prompt, temp=0) :\n",
    "  response = co.generate(\n",
    "      model = \"command\",\n",
    "      prompt = prompt,\n",
    "      max_tokens=500,\n",
    "      temperature = temp)\n",
    "  return response.generations[0].text\n"
   ]
  },
  {
   "cell_type": "code",
   "execution_count": 8,
   "id": "6c907559-13ca-4b9e-bb21-d379c1a8c231",
   "metadata": {},
   "outputs": [
    {
     "name": "stdout",
     "output_type": "stream",
     "text": [
      " The CO-1T is a revolutionary new wireless headphone product that offers an incredible sound experience without the hassle of cables. The CO-1T boasts state-of-the-art technology specifically designed for music lovers, gamers, and binge-watchers alike. The headset delivers a crisp, clear sound with powerful bass, making it the ideal companion for listening to music, playing games, and enjoying your favorite movies and TV series. The CO-1T is also exceptionally comfortable to wear, featuring ergonomically designed earcups padded with breathable material to ensure fatigue-free wear for long periods. \n",
      "\n",
      "One of the standout features of the CO-1T is its wireless connectivity, allowing users to enjoy their favorite audio content without any distractions from cables or interruptions from external sources. With Bluetooth connectivity, they can effortlessly pair with various devices such as smartphones, tablets, laptops, and gaming consoles. This allows users to move freely and comfortably without any limits, making them the ideal companion for both indoor and outdoor activities. \n",
      "\n",
      "With its impressive sound, comfort, and wireless capabilities, the CO-1T is an all-around impressive wireless headphone that exceeds expectations. It is a must-have for those who demand the best in sound and convenience without compromising on either. The CO-1T is a perfect blend of superior audio technology and cutting-edge innovation. \n",
      "\n",
      "Overall, the CO-1T is a top-of-the-line wireless headphone that promises an exceptional sound experience and maximum comfort. With its state-of-the-art technology, ergonomic design, and immersive sound, it's the ideal companion for any multimedia enthusiast. So, upgrade your audio experience today with the revolutionary CO-1T wireless headphones! \n"
     ]
    }
   ],
   "source": [
    "user_input = \"a wireless headphone product named the CO-1T\"\n",
    "prompt = f\"\"\"Write a creative product description for {user_input}\"\"\"\n",
    "\n",
    "response = generate_text(prompt, temp=0.5)\n",
    "print(response)"
   ]
  },
  {
   "cell_type": "code",
   "execution_count": 9,
   "id": "16db364b-1459-4df6-9ea7-5d7463db42a3",
   "metadata": {},
   "outputs": [
    {
     "name": "stdout",
     "output_type": "stream",
     "text": [
      " Whether you're passionate about coding or conducting, the CO-1T wireless headphones are here to help you tune out the noise of the world and tune into your tunes, podcasts, and coding tutorials. With Bluetooth connectivity, these headphones deliver crystal-clear, immersive sound for a truly transformative audio experience. But what sets these headphones apart is their game-changing fast charging capabilities. With just a quick charge, you'll be ready to tackle your task at hand with all the energy and focus needed, even when your battery is low. \n",
      "\n",
      "The CO-1T headphones are designed to be comfortable for long-term wear, so you can stay focused on your work and tune out distractions. The active noise-canceling technology will make your office sounds like a quiet sanctuary, allowing you to be at the forefront of innovation without letting auditory disturbances pull you away from your goal. \n",
      "\n",
      "Overall, the CO-1T wireless headphones are a must-have for software developers who value focus, innovation, and the power of a quiet workspace. With stunning sound and a game-changing fast charging battery, you'll be ready to take on the world and code your heart out, comfortably and distraction-free. \n"
     ]
    }
   ],
   "source": [
    "# Specifics\n",
    "\n",
    "user_input_product = \"a wireless headphone product named the CO-1T\"\n",
    "user_input_keywords = '\"bluetooth\", \"wireless\", \"fast charging\"'\n",
    "user_input_customer = \"a software developer who works in noisy offices\"\n",
    "user_input_describe = \"benefits of this product\"\n",
    "\n",
    "\n",
    "prompt = f\"\"\"Write a creative product description for {user_input_product}\n",
    "with the keywords {user_input_keywords} for {user_input_customer}, and describe {user_input_describe}.\"\"\"\n",
    "\n",
    "\n",
    "response = generate_text(prompt, temp=0.5)\n",
    "print(response)"
   ]
  },
  {
   "cell_type": "code",
   "execution_count": 10,
   "id": "d4c7fe6e-3718-47e8-95cc-068ccbd1db49",
   "metadata": {},
   "outputs": [
    {
     "name": "stdout",
     "output_type": "stream",
     "text": [
      " Are you a developer who struggles to concentrate in noisy offices? The CO-1T wireless headphones are designed to keep you focused no matter how loud your environment gets. With its innovative Noise Rejection Technology, you can block out distractions and focus on what matters, including your code. \n",
      "\n",
      "Its fast charging capability offers you freedom from worrying about battery life. Charge the headphones for just 10 minutes, and you'll have up to 10 hours of battery life on top of the 30 hours already available. \n",
      "\n",
      "The CO-1T headphones provide a seamless and truly wireless experience using Bluetooth connectivity, so you can move freely around the office without any distractions from tangled wires. \n",
      "\n",
      "Invest in CO-1T wireless headphones and experience the difference in your productivity when you're able to block out distractions and focus on what matters to you as a developer. \n"
     ]
    }
   ],
   "source": [
    "# Structured\n",
    "\n",
    "user_input_product = \"a wireless headphone product named the CO-1T\"\n",
    "user_input_keywords = '\"bluetooth\", \"wireless\", \"fast charging\"'\n",
    "user_input_customer = \"a software developer who works in noisy offices\"\n",
    "user_input_describe = \"benefits of this product\"\n",
    "\n",
    "\n",
    "prompt = f\"\"\"Write a creative product description for {user_input_product}\n",
    "Keywords : {user_input_keywords}\n",
    "Audience : {user_input_customer}\n",
    "Describe : {user_input_describe}\"\"\"\n",
    "\n",
    "\n",
    "response = generate_text(prompt, temp=0.5)\n",
    "print(response)\n"
   ]
  },
  {
   "cell_type": "code",
   "execution_count": 11,
   "id": "9d0fe30f-0046-4466-abc6-558cb52bb048",
   "metadata": {},
   "outputs": [
    {
     "name": "stdout",
     "output_type": "stream",
     "text": [
      " The CO-1T wireless headphone is a new generation of headphones that are more comfortable and convenient to use. \n",
      "\n",
      "Here are some of its key features: \n",
      "\n",
      "1. Ergonomic Design: The headphone is built with a slim, comfortable, and secure design that fits easily under helmets, hats, and goggles. This design is ideal for outdoor work duties, vigorous exercise, and other activities where comfort is crucial. \n",
      "\n",
      "2. Bluetooth Connectivity: It is Bluetooth-enabled and can be easily paired with your favorite devices such as smartphones, tablets, laptops, and more. This allows for wireless listening and hands-free calls anywhere you go, without the clutter of cables limiting your mobility. \n",
      "\n",
      "3. Long Battery Life: The headphone offers extended battery life that can last up to 13 hours of continuous playback and only takes 2 hours for a full charge. With a standby time of up to 660 hours, you can rely on this headset for long days on the job or lengthy workouts and never worry about battery drain. \n",
      "\n",
      "4. Noise Cancelling: It uses Active Noise Cancellation (ANC) technology which employs microphones to detect and block background noise. This feature is particularly useful for users in busy work environments or those engaging in outdoor activities with loud ambient noise, as it helps them focus on the audio they want to listen to. \n",
      "\n",
      "5. High Sound Quality: The headphone uses advanced audio technology and a custom-tuned driver to deliver superior sound quality with deep bass. Clear audio ensures you can hear every detail, making these ideal for music lovers and those who need to discern accurate sound reproduction. \n",
      "\n",
      "6. Convenience and Compatibility: The headphones include a USB-C charging port and a 3.5mm analog audio port for optional wired connection. The headphones are compatible with a variety of audio devices and popular online communication platforms, ensuring easy integration into your existing workflow and entertainment systems. \n",
      "\n",
      "7. Comfort Fit Design: Its ergonomic design, coupled with different size options for the ear tips and stability cones, ensures a comfortable fit for various ear sizes. This feature is vital for long hours of wear without discomfort. \n",
      "\n",
      "These key features make the CO-1T wireless headphone an versatile option, whether you're on the go, at the gym, on the job site, or simply enjoying some personal time. \n"
     ]
    }
   ],
   "source": [
    "# Without context\n",
    "\n",
    "user_input = \"What are the key features of the CO-1T wireless headphone\"\n",
    "prompt = user_input\n",
    "\n",
    "response = generate_text(prompt, temp=0.5)\n",
    "print(response)"
   ]
  },
  {
   "cell_type": "code",
   "execution_count": 12,
   "id": "33412002-8252-4211-8dd6-9e09bbe23c78",
   "metadata": {},
   "outputs": [
    {
     "name": "stdout",
     "output_type": "stream",
     "text": [
      " The key features of the CO-1T wireless headphones are its noise-canceling capability, Bluetooth connectivity, and fast charging capacity, allowing users to block out distractions and work efficiently without being overwhelmed by outside noise or technical hassles. \n"
     ]
    }
   ],
   "source": [
    "# With Context\n",
    "\n",
    "context = \"\"\"Think back to the last time you were working without any distractions in the office. That's right...I bet it's been a while. \\\n",
    "With the newly improved CO-1T noise-cancelling Bluetooth headphones, you can work in peace all day. Designed in partnership with \\\n",
    "software developers who work around the mayhem of tech startups, these headphones are finally the break you've been waiting for. With \\\n",
    "fast charging capacity and wireless Bluetooth connectivity, the CO-1T is the easy breezy way to get through your day without being \\\n",
    "overwhelmed by the chaos of the world.\"\"\"\n",
    "\n",
    "\n",
    "user_input = \"What are the key features of the CO-1T wireless headphone\"\n",
    "\n",
    "prompt =f\"\"\"{context}\n",
    "Given the information above, answer this question : {user_input}\"\"\"\n",
    "\n",
    "\n",
    "\n",
    "response = generate_text(prompt, temp=0)\n",
    "print(response)"
   ]
  },
  {
   "cell_type": "code",
   "execution_count": 13,
   "id": "569d38d3-247e-4bae-8f44-a3cf9abe217b",
   "metadata": {},
   "outputs": [
    {
     "name": "stdout",
     "output_type": "stream",
     "text": [
      " Ok, I will send a message to Alison asking if she can pick you up tonight to go to the concert together. Please provide me with the details of your inquiry so I can assist you better! \n"
     ]
    }
   ],
   "source": [
    "#Without Examples\n",
    "\n",
    "prompt=\"\"\"Turn the following message to a virtual assistant into the correct action:\n",
    "Send a message to Alison to ask if she can pick me up tonight to go to the concert together\"\"\"\n",
    "\n",
    "response = generate_text(prompt, temp=0)\n",
    "print(response)\n"
   ]
  },
  {
   "cell_type": "code",
   "execution_count": 14,
   "id": "8e0f152f-6a23-4b21-af9b-d75a2307a0ef",
   "metadata": {},
   "outputs": [
    {
     "name": "stdout",
     "output_type": "stream",
     "text": [
      " can you pick me up tonight to go to the concert together? \n"
     ]
    }
   ],
   "source": [
    "#With Examples\n",
    "\n",
    "user_input = \"Send a message to Alison to ask if she can pick me up tonight to go to the concert together\"\n",
    "\n",
    "prompt=f\"\"\"Turn the following message to a virtual assistant into the correct action:\n",
    "\n",
    "Message: Ask my aunt if she can go to the JDRF Walk with me October 6th\n",
    "Action: can you go to the jdrf walk with me october 6th\n",
    "\n",
    "Message: Ask Eliza what should I bring to the wedding tomorrow\n",
    "Action: what should I bring to the wedding tomorrow\n",
    "\n",
    "Message: Send message to supervisor that I am sick and will not be in today\n",
    "Action: I am sick and will not be in today\n",
    "\n",
    "Message: {user_input}\n",
    "Action:\"\"\"\n",
    "\n",
    "\n",
    "response = generate_text(prompt, temp=0.5)\n",
    "print(response)"
   ]
  },
  {
   "cell_type": "code",
   "execution_count": 15,
   "id": "13bf1246-db33-4b5c-bebe-32ffb0fddf35",
   "metadata": {},
   "outputs": [
    {
     "name": "stdout",
     "output_type": "stream",
     "text": [
      " The cafeteria now has 29 apples. They started with 23 apples, used 20 to make lunch, and then bought 6 more. Thus, the cafeteria now has, 23 - 20 + 6 = 29 apples. \n"
     ]
    }
   ],
   "source": [
    "#Chain of thought\n",
    "\n",
    "prompt=f\"\"\"\n",
    "Q: Roger has 5 tennis balls. He buys 2 more cans of tennis balls. Each can has 3 tennis balls. \\\n",
    "How many tennis balls does he have now?\n",
    "A: The answer is 11.\n",
    "Q: The cafeteria had 23 apples. If they used 20 to make lunch and bought 6 more, how many apples do they have?\n",
    "A:\"\"\"\n",
    "\n",
    "\n",
    "response = generate_text(prompt, temp=0)\n",
    "print(response)\n"
   ]
  },
  {
   "cell_type": "code",
   "execution_count": 16,
   "id": "1ae544ab-7e26-4f51-939b-2b0555ebfdd2",
   "metadata": {},
   "outputs": [
    {
     "name": "stdout",
     "output_type": "stream",
     "text": [
      " Here is a table formatted as you requested:\n",
      "\n",
      "| Invoice Number | Merchant Name | Account Number |\n",
      "| --- | --- | --- |\n",
      "| INVOICE #0521 | ALLBIRDS | XXX3846 |\n",
      "| INVOICE #6781 | SHOPPERS | XXX9877 |\n",
      "| INVOICE #0777 | CN TOWER | XXX3846 |\n",
      "\n",
      "Let me know if you would like me to make any further alterations to this data set. \n"
     ]
    }
   ],
   "source": [
    "prompt=\"\"\"Turn the following information into a table with columns Invoice Number, Merchant Name, and Account Number.\n",
    "Bank Invoice: INVOICE #0521 MERCHANT ALLBIRDS ACC XXX3846\n",
    "Bank Invoice: INVOICE #6781 MERCHANT SHOPPERS ACC XXX9877\n",
    "Bank Invoice: INVOICE #0777 MERCHANT CN TOWER ACC XXX3846\n",
    "\"\"\"\n",
    "\n",
    "\n",
    "response = generate_text(prompt, temp=0)\n",
    "print(response)"
   ]
  },
  {
   "cell_type": "code",
   "execution_count": 17,
   "id": "41d35edd-d7d2-437e-a1a0-7a4f89da10de",
   "metadata": {},
   "outputs": [
    {
     "name": "stdout",
     "output_type": "stream",
     "text": [
      " Certainly, here is the information provided in a JSON format:\n",
      "```json\n",
      "[\n",
      "    {\n",
      "        \"invoice_number\": \"INVOICE #0521\",\n",
      "        \"merchant_name\": \"ALLBIRDS\",\n",
      "        \"account_number\": \"XXX3846\"\n",
      "    },\n",
      "    {\n",
      "        \"invoice_number\": \"INVOICE #6781\",\n",
      "        \"merchant_name\": \"SHOPPERS\",\n",
      "        \"account_number\": \"XXX9877\"\n",
      "    },\n",
      "    {\n",
      "        \"invoice_number\": \"INVOICE #0777\",\n",
      "        \"merchant_name\": \"CN TOWER\",\n",
      "        \"account_number\": \"XXX3846\"\n",
      "    }\n",
      "]\n",
      "```\n"
     ]
    }
   ],
   "source": [
    "prompt=\"\"\"Turn the following information into a JSON string with the following keys: Invoice Number, Merchant Name, and Account Number.\n",
    "Bank Invoice: INVOICE #0521 MERCHANT ALLBIRDS ACC XXX3846\n",
    "Bank Invoice: INVOICE #6781 MERCHANT SHOPPERS ACC XXX9877\n",
    "Bank Invoice: INVOICE #0777 MERCHANT CN TOWER ACC XXX3846\n",
    "\"\"\"\n",
    "\n",
    "\n",
    "response = generate_text(prompt, temp=0)\n",
    "print(response)"
   ]
  },
  {
   "cell_type": "code",
   "execution_count": 18,
   "id": "8fe78870-144f-43d0-8933-4b74c898ae6e",
   "metadata": {},
   "outputs": [
    {
     "name": "stderr",
     "output_type": "stream",
     "text": [
      "Your text contains a trailing whitespace, which has been trimmed to ensure high quality generations.\n"
     ]
    },
    {
     "name": "stdout",
     "output_type": "stream",
     "text": [
      "Industry: Education\n",
      "The Problem: Engaging students in extracurricular learning can be difficult, and often these programs are geared more towards science and tech-oriented subjects rather than the arts. \n",
      "\n",
      "Audience: Elementary-aged students and their caregivers\n",
      "Startup Idea: An after-school subscription box service geared towards the arts. Boxes would be delivered weekly and cater to a different artistic domain each month (e.g. painting, sculpture, music, theatre). \n",
      "\n",
      "Each box would contain all the necessary materials to complete a project related to the domain of the month, with instructions and supplementary information to guide the learner. Caregivers could choose to purchase boxes for their child individually, or could opt for a subscription that would automatically send boxes each week. \n",
      "\n",
      "Startup Name: Art Riot! \n",
      "\n",
      "This startup aims to engage students in the arts through hands-on activities and learning via a fun and exciting subscription box service. \n"
     ]
    }
   ],
   "source": [
    "# With Steps\n",
    "\n",
    "user_input = \"education\"\n",
    "\n",
    "prompt = f\"\"\"Generate a startup idea for this industry: {user_input}\n",
    "First, describe the problem to be solved.\n",
    "Next, describe the target audience of this startup idea.\n",
    "Next, describe the startup idea and how it solves the problem for the target audience.\n",
    "Next, provide a name for the given startup.\n",
    "\n",
    "Use the following format:\n",
    "Industry: \n",
    "The Problem: \n",
    "Audience: \n",
    "Startup Idea: \n",
    "Startup Name: \"\"\"\n",
    "\n",
    "\n",
    "response = generate_text(prompt, temp=0.9)\n",
    "print(response)"
   ]
  },
  {
   "cell_type": "code",
   "execution_count": 19,
   "id": "6a1e301d-9eaf-4230-9e3d-af9b1b700343",
   "metadata": {},
   "outputs": [
    {
     "name": "stdout",
     "output_type": "stream",
     "text": [
      " They had 23 apples - 20 apples used for lunch = 3 apples left. They then bought 3 apples + 6 apples = 9 apples. Therefore, they now have 9 apples + 3 apples = 12 apples.\n",
      "So, the answer is 12.\n"
     ]
    }
   ],
   "source": [
    "prompt=f\"\"\"Q: The cafeteria had 23 apples. If they used 20 to make lunch and bought 6 more, \\\n",
    "how many apples do they have?\n",
    "A: Let's think step by step.\"\"\"\n",
    "\n",
    "\n",
    "\n",
    "response = generate_text(prompt, temp=0.9)\n",
    "print(response)"
   ]
  },
  {
   "cell_type": "code",
   "execution_count": null,
   "id": "994470db-cd6a-4594-bf1d-574a03f39519",
   "metadata": {},
   "outputs": [],
   "source": []
  }
 ],
 "metadata": {
  "kernelspec": {
   "display_name": "Python 3 (ipykernel)",
   "language": "python",
   "name": "python3"
  },
  "language_info": {
   "codemirror_mode": {
    "name": "ipython",
    "version": 3
   },
   "file_extension": ".py",
   "mimetype": "text/x-python",
   "name": "python",
   "nbconvert_exporter": "python",
   "pygments_lexer": "ipython3",
   "version": "3.10.13"
  }
 },
 "nbformat": 4,
 "nbformat_minor": 5
}
